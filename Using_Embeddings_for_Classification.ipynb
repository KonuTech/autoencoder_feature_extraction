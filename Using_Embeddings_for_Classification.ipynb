{
 "cells": [
  {
   "cell_type": "markdown",
   "id": "b5bcc724",
   "metadata": {},
   "source": [
    "https://medium.com/analytics-vidhya/text-classification-using-word-embeddings-and-deep-learning-in-python-classifying-tweets-from-6fe644fcfc81"
   ]
  },
  {
   "cell_type": "markdown",
   "id": "45611f48",
   "metadata": {},
   "source": [
    "https://towardsdatascience.com/creating-word-embeddings-coding-the-word2vec-algorithm-in-python-using-deep-learning-b337d0ba17a8"
   ]
  },
  {
   "cell_type": "code",
   "execution_count": 1,
   "id": "41e3585e",
   "metadata": {},
   "outputs": [],
   "source": [
    "import numpy as np\n",
    "import pandas as pd\n",
    "import re"
   ]
  },
  {
   "cell_type": "code",
   "execution_count": 76,
   "id": "b6e6931c",
   "metadata": {},
   "outputs": [],
   "source": [
    "from tensorflow.keras.preprocessing.text import Tokenizer\n",
    "from tensorflow.keras.preprocessing.sequence import pad_sequences\n",
    "from tensorflow.keras.models import Sequential, Model\n",
    "# from tensorflow.keras.layers import Embedding\n",
    "# from tensorflow.keras.layers import Input\n",
    "# from tensorflow.keras.models import \n",
    "from tensorflow.keras.layers import LSTM, Input, Dense, Embedding, concatenate, Dropout, concatenate, Bidirectional\n",
    "# from tensorflow.keras.layers import \n",
    "import tensorflow.keras.preprocessing"
   ]
  },
  {
   "cell_type": "code",
   "execution_count": 5,
   "id": "ec5d69a4",
   "metadata": {},
   "outputs": [],
   "source": [
    "d = [\n",
    "  ('This article is awesome', 1),\n",
    "  ('There are just too much words here', 0), \n",
    "  ('The math is actually wrong here', 0),\n",
    "  ('I really enjoy learning new stuff', 1),\n",
    "  ('I am kinda lazy so I just skim these texts', 0),\n",
    "  ('Who cares about AI?', 0),\n",
    "  ('I will surely be a better person after reading this!', 1),\n",
    "  ('The author is pretty cute :)', 1)\n",
    "]"
   ]
  },
  {
   "cell_type": "code",
   "execution_count": 6,
   "id": "7d45a429",
   "metadata": {},
   "outputs": [],
   "source": [
    "def clean_text(\n",
    "    string: str, \n",
    "    punctuations=r'''!()-[]{};:'\"\\,<>./?@#$%^&*_~''',\n",
    "    stop_words=['the', 'a', 'and', 'is', 'be', 'will']) -> str:\n",
    "    \"\"\"\n",
    "    A method to clean text \n",
    "    \"\"\"\n",
    "    # Cleaning the urls\n",
    "    string = re.sub(r'https?://\\S+|www\\.\\S+', '', string)\n",
    "\n",
    "    # Cleaning the html elements\n",
    "    string = re.sub(r'<.*?>', '', string)\n",
    "\n",
    "    # Removing the punctuations\n",
    "    for x in string.lower(): \n",
    "        if x in punctuations: \n",
    "            string = string.replace(x, \"\") \n",
    "\n",
    "    # Converting the text to lower\n",
    "    string = string.lower()\n",
    "\n",
    "    # Removing stop words\n",
    "    string = ' '.join([word for word in string.split() if word not in stop_words])\n",
    "\n",
    "    # Cleaning the whitespaces\n",
    "    string = re.sub(r'\\s+', ' ', string).strip()\n",
    "\n",
    "    return string    "
   ]
  },
  {
   "cell_type": "code",
   "execution_count": 7,
   "id": "cc217f1d",
   "metadata": {},
   "outputs": [],
   "source": [
    "X_train = [x[0] for x in d] # Text\n",
    "Y_train = [y[1] for y in d] # Label\n",
    "X_train = [clean_text(x) for x in X_train]"
   ]
  },
  {
   "cell_type": "code",
   "execution_count": 8,
   "id": "74c03c2f",
   "metadata": {},
   "outputs": [
    {
     "data": {
      "text/plain": [
       "['this article awesome',\n",
       " 'there are just too much words here',\n",
       " 'math actually wrong here',\n",
       " 'i really enjoy learning new stuff',\n",
       " 'i am kinda lazy so i just skim these texts',\n",
       " 'who cares about ai',\n",
       " 'i surely better person after reading this',\n",
       " 'author pretty cute']"
      ]
     },
     "execution_count": 8,
     "metadata": {},
     "output_type": "execute_result"
    }
   ],
   "source": [
    "X_train"
   ]
  },
  {
   "cell_type": "code",
   "execution_count": 9,
   "id": "a114ce61",
   "metadata": {},
   "outputs": [
    {
     "data": {
      "text/plain": [
       "[1, 0, 0, 1, 0, 0, 1, 1]"
      ]
     },
     "execution_count": 9,
     "metadata": {},
     "output_type": "execute_result"
    }
   ],
   "source": [
    "Y_train"
   ]
  },
  {
   "cell_type": "code",
   "execution_count": 10,
   "id": "fad19d78",
   "metadata": {},
   "outputs": [],
   "source": [
    "tokenizer = Tokenizer()\n",
    "tokenizer.fit_on_texts(X_train)"
   ]
  },
  {
   "cell_type": "code",
   "execution_count": 11,
   "id": "951cc441",
   "metadata": {},
   "outputs": [
    {
     "data": {
      "text/plain": [
       "{'i': 1,\n",
       " 'this': 2,\n",
       " 'just': 3,\n",
       " 'here': 4,\n",
       " 'article': 5,\n",
       " 'awesome': 6,\n",
       " 'there': 7,\n",
       " 'are': 8,\n",
       " 'too': 9,\n",
       " 'much': 10,\n",
       " 'words': 11,\n",
       " 'math': 12,\n",
       " 'actually': 13,\n",
       " 'wrong': 14,\n",
       " 'really': 15,\n",
       " 'enjoy': 16,\n",
       " 'learning': 17,\n",
       " 'new': 18,\n",
       " 'stuff': 19,\n",
       " 'am': 20,\n",
       " 'kinda': 21,\n",
       " 'lazy': 22,\n",
       " 'so': 23,\n",
       " 'skim': 24,\n",
       " 'these': 25,\n",
       " 'texts': 26,\n",
       " 'who': 27,\n",
       " 'cares': 28,\n",
       " 'about': 29,\n",
       " 'ai': 30,\n",
       " 'surely': 31,\n",
       " 'better': 32,\n",
       " 'person': 33,\n",
       " 'after': 34,\n",
       " 'reading': 35,\n",
       " 'author': 36,\n",
       " 'pretty': 37,\n",
       " 'cute': 38}"
      ]
     },
     "execution_count": 11,
     "metadata": {},
     "output_type": "execute_result"
    }
   ],
   "source": [
    "tokenizer.word_index"
   ]
  },
  {
   "cell_type": "code",
   "execution_count": 12,
   "id": "045a4915",
   "metadata": {},
   "outputs": [
    {
     "data": {
      "text/plain": [
       "[[2, 5, 6],\n",
       " [7, 8, 3, 9, 10, 11, 4],\n",
       " [12, 13, 14, 4],\n",
       " [1, 15, 16, 17, 18, 19],\n",
       " [1, 20, 21, 22, 23, 1, 3, 24, 25, 26],\n",
       " [27, 28, 29, 30],\n",
       " [1, 31, 32, 33, 34, 35, 2],\n",
       " [36, 37, 38]]"
      ]
     },
     "execution_count": 12,
     "metadata": {},
     "output_type": "execute_result"
    }
   ],
   "source": [
    "tokenizer.texts_to_sequences(X_train)"
   ]
  },
  {
   "cell_type": "code",
   "execution_count": 15,
   "id": "9ab6857e",
   "metadata": {},
   "outputs": [],
   "source": [
    "class TextToTensor():\n",
    "\n",
    "    def __init__(self, tokenizer, max_len):\n",
    "        self.tokenizer = tokenizer\n",
    "        self.max_len = max_len\n",
    "\n",
    "    def string_to_tensor(self, string_list: list) -> list:\n",
    "        \"\"\"\n",
    "        A method to convert a string list to a tensor for a deep learning model\n",
    "        \"\"\"    \n",
    "        string_list = self.tokenizer.texts_to_sequences(string_list)\n",
    "        string_list = pad_sequences(string_list, maxlen=self.max_len)\n",
    "        \n",
    "        return string_list"
   ]
  },
  {
   "cell_type": "code",
   "execution_count": 17,
   "id": "4f34fe2c",
   "metadata": {},
   "outputs": [
    {
     "ename": "NameError",
     "evalue": "name 'string_list' is not defined",
     "output_type": "error",
     "traceback": [
      "\u001b[1;31m---------------------------------------------------------------------------\u001b[0m",
      "\u001b[1;31mNameError\u001b[0m                                 Traceback (most recent call last)",
      "\u001b[1;32m~\\AppData\\Local\\Temp/ipykernel_27088/1492421333.py\u001b[0m in \u001b[0;36m<module>\u001b[1;34m\u001b[0m\n\u001b[0;32m      3\u001b[0m \u001b[1;31m# Creating the padded matrices\u001b[0m\u001b[1;33m\u001b[0m\u001b[1;33m\u001b[0m\u001b[0m\n\u001b[0;32m      4\u001b[0m \u001b[0mX_train_NN\u001b[0m \u001b[1;33m=\u001b[0m \u001b[0mtokenizer\u001b[0m\u001b[1;33m.\u001b[0m\u001b[0mtexts_to_sequences\u001b[0m\u001b[1;33m(\u001b[0m\u001b[0mX_train\u001b[0m\u001b[1;33m)\u001b[0m\u001b[1;33m\u001b[0m\u001b[1;33m\u001b[0m\u001b[0m\n\u001b[1;32m----> 5\u001b[1;33m \u001b[0mX_train_NN\u001b[0m \u001b[1;33m=\u001b[0m \u001b[0mpad_sequences\u001b[0m\u001b[1;33m(\u001b[0m\u001b[0mstring_list\u001b[0m\u001b[1;33m,\u001b[0m \u001b[0mmaxlen\u001b[0m\u001b[1;33m=\u001b[0m\u001b[0mmax_len\u001b[0m\u001b[1;33m)\u001b[0m\u001b[1;33m\u001b[0m\u001b[1;33m\u001b[0m\u001b[0m\n\u001b[0m",
      "\u001b[1;31mNameError\u001b[0m: name 'string_list' is not defined"
     ]
    }
   ],
   "source": [
    "# Getting the biggest sentence\n",
    "max_len = np.max([len(text.split()) for text in X_train])\n",
    "# Creating the padded matrices\n",
    "X_train_NN = tokenizer.texts_to_sequences(X_train)\n",
    "X_train_NN = pad_sequences(string_list, maxlen=max_len)"
   ]
  },
  {
   "cell_type": "code",
   "execution_count": 18,
   "id": "de9cc59c",
   "metadata": {},
   "outputs": [],
   "source": [
    "# Tokenizing the text\n",
    "tokenizer = Tokenizer()\n",
    "tokenizer.fit_on_texts(X_train)\n",
    "# Getting the longest sentence\n",
    "max_len = np.max([len(text.split()) for text in X_train])\n",
    "# Converting to tensor\n",
    "TextToTensor_instance = TextToTensor(\n",
    "tokenizer=tokenizer,\n",
    "max_len=max_len\n",
    ")\n",
    "X_train_NN = TextToTensor_instance.string_to_tensor(X_train)"
   ]
  },
  {
   "cell_type": "code",
   "execution_count": 20,
   "id": "aec62505",
   "metadata": {},
   "outputs": [],
   "source": [
    "model = Sequential()\n",
    "model.add(Embedding(\n",
    "  input_dim=44, \n",
    "  output_dim=3, \n",
    "  input_length=max_len))\n",
    "\n",
    "model.compile('rmsprop', 'mse')\n",
    "output_array = model.predict(X_train_NN)[0]"
   ]
  },
  {
   "cell_type": "code",
   "execution_count": 21,
   "id": "7c7170e1",
   "metadata": {},
   "outputs": [
    {
     "data": {
      "text/plain": [
       "array([[ 0.02903755,  0.0497383 , -0.02927721],\n",
       "       [ 0.02903755,  0.0497383 , -0.02927721],\n",
       "       [ 0.02903755,  0.0497383 , -0.02927721],\n",
       "       [ 0.02903755,  0.0497383 , -0.02927721],\n",
       "       [ 0.02903755,  0.0497383 , -0.02927721],\n",
       "       [ 0.02903755,  0.0497383 , -0.02927721],\n",
       "       [ 0.02903755,  0.0497383 , -0.02927721],\n",
       "       [ 0.00371461,  0.03594406, -0.0321241 ],\n",
       "       [-0.04894433, -0.03504934,  0.00124757],\n",
       "       [-0.02994319, -0.00896982,  0.0406431 ]], dtype=float32)"
      ]
     },
     "execution_count": 21,
     "metadata": {},
     "output_type": "execute_result"
    }
   ],
   "source": [
    "output_array"
   ]
  },
  {
   "cell_type": "code",
   "execution_count": 22,
   "id": "36b6748c",
   "metadata": {},
   "outputs": [
    {
     "data": {
      "text/plain": [
       "array([[ 0,  0,  0,  0,  0,  0,  0,  2,  5,  6],\n",
       "       [ 0,  0,  0,  7,  8,  3,  9, 10, 11,  4],\n",
       "       [ 0,  0,  0,  0,  0,  0, 12, 13, 14,  4],\n",
       "       [ 0,  0,  0,  0,  1, 15, 16, 17, 18, 19],\n",
       "       [ 1, 20, 21, 22, 23,  1,  3, 24, 25, 26],\n",
       "       [ 0,  0,  0,  0,  0,  0, 27, 28, 29, 30],\n",
       "       [ 0,  0,  0,  1, 31, 32, 33, 34, 35,  2],\n",
       "       [ 0,  0,  0,  0,  0,  0,  0, 36, 37, 38]])"
      ]
     },
     "execution_count": 22,
     "metadata": {},
     "output_type": "execute_result"
    }
   ],
   "source": [
    "X_train_NN"
   ]
  },
  {
   "cell_type": "code",
   "execution_count": 31,
   "id": "04974a89",
   "metadata": {},
   "outputs": [],
   "source": [
    "import numpy as np\n",
    "\n",
    "\n",
    "class Embeddings():\n",
    "    \"\"\"\n",
    "    A class to read the word embedding file and to create the word embedding matrix\n",
    "    \"\"\"\n",
    "\n",
    "    def __init__(self, path, vector_dimension):\n",
    "        self.path = path \n",
    "        self.vector_dimension = vector_dimension\n",
    "    \n",
    "    @staticmethod\n",
    "    def get_coefs(word, *arr): \n",
    "        return word, np.asarray(arr, dtype='float32')\n",
    "\n",
    "    def get_embedding_index(self):\n",
    "        embeddings_index = dict(self.get_coefs(*o.split(\" \")) for o in open(self.path, errors='ignore'))\n",
    "        return embeddings_index\n",
    "\n",
    "    def create_embedding_matrix(self, tokenizer=None, max_features=None):\n",
    "        \"\"\"\n",
    "        A method to create the embedding matrix\n",
    "        \"\"\"\n",
    "        model_embed = self.get_embedding_index()\n",
    "\n",
    "        if max_features is None:\n",
    "            max_features = len(model_embed)\n",
    "\n",
    "        word_index = model_embed\n",
    "        if tokenizer is not None: \n",
    "            word_index = tokenizer.word_index\n",
    "\n",
    "        embedding_matrix = np.zeros((max_features + 1, self.vector_dimension))\n",
    "        for index, word in enumerate(word_index.keys()):\n",
    "            if index > max_features:\n",
    "                break\n",
    "            else:\n",
    "                try:\n",
    "                    embedding_matrix[index] = model_embed[word]\n",
    "                except:\n",
    "                    continue\n",
    "        return embedding_matrix"
   ]
  },
  {
   "cell_type": "code",
   "execution_count": 30,
   "id": "bc104489",
   "metadata": {},
   "outputs": [],
   "source": [
    "embed_path = 'glove.6B.50d.txt'\n",
    "embed_dim = 50"
   ]
  },
  {
   "cell_type": "code",
   "execution_count": 32,
   "id": "3e8b8928",
   "metadata": {},
   "outputs": [],
   "source": [
    "# Tokenizing the text\n",
    "tokenizer = Tokenizer()\n",
    "tokenizer.fit_on_texts(X_train)\n",
    "# Creating the embedding matrix\n",
    "embedding = Embeddings(embed_path, embed_dim)\n",
    "embedding_matrix = embedding.create_embedding_matrix(tokenizer, len(tokenizer.word_counts))"
   ]
  },
  {
   "cell_type": "code",
   "execution_count": 34,
   "id": "4280d23a",
   "metadata": {},
   "outputs": [],
   "source": [
    "# Converting to tensor\n",
    "TextToTensor_instance = TextToTensor(\n",
    "tokenizer=tokenizer,\n",
    "max_len=max_len\n",
    ")\n",
    "X_train_NN = TextToTensor_instance.string_to_tensor(X_train)\n",
    "model = Sequential()\n",
    "model.add(Embedding(\n",
    "  input_dim=39,\n",
    "  output_dim=50, \n",
    "  input_length=max_len,\n",
    "  weights=[embedding_matrix]))\n",
    "\n",
    "model.compile('rmsprop', 'mse')\n",
    "output_array = model.predict(X_train_NN)[0]"
   ]
  },
  {
   "cell_type": "code",
   "execution_count": 36,
   "id": "252fb8a3",
   "metadata": {},
   "outputs": [
    {
     "data": {
      "text/plain": [
       "(10, 50)"
      ]
     },
     "execution_count": 36,
     "metadata": {},
     "output_type": "execute_result"
    }
   ],
   "source": [
    "output_array.shape"
   ]
  },
  {
   "cell_type": "code",
   "execution_count": 35,
   "id": "f1f73311",
   "metadata": {
    "scrolled": true
   },
   "outputs": [
    {
     "data": {
      "text/plain": [
       "array([[ 1.1891e-01,  1.5255e-01, -8.2073e-02, -7.4144e-01,  7.5917e-01,\n",
       "        -4.8328e-01, -3.1009e-01,  5.1476e-01, -9.8708e-01,  6.1757e-04,\n",
       "        -1.5043e-01,  8.3770e-01, -1.0797e+00, -5.1460e-01,  1.3188e+00,\n",
       "         6.2007e-01,  1.3779e-01,  4.7108e-01, -7.2874e-02, -7.2675e-01,\n",
       "        -7.4116e-01,  7.5263e-01,  8.8180e-01,  2.9561e-01,  1.3548e+00,\n",
       "        -2.5701e+00, -1.3523e+00,  4.5880e-01,  1.0068e+00, -1.1856e+00,\n",
       "         3.4737e+00,  7.7898e-01, -7.2929e-01,  2.5102e-01, -2.6156e-01,\n",
       "        -3.4684e-01,  5.5841e-01,  7.5098e-01,  4.9830e-01, -2.6823e-01,\n",
       "        -2.7443e-03, -1.8298e-02, -2.8096e-01,  5.5318e-01,  3.7706e-02,\n",
       "         1.8555e-01, -1.5025e-01, -5.7512e-01, -2.6671e-01,  9.2121e-01],\n",
       "       [ 1.1891e-01,  1.5255e-01, -8.2073e-02, -7.4144e-01,  7.5917e-01,\n",
       "        -4.8328e-01, -3.1009e-01,  5.1476e-01, -9.8708e-01,  6.1757e-04,\n",
       "        -1.5043e-01,  8.3770e-01, -1.0797e+00, -5.1460e-01,  1.3188e+00,\n",
       "         6.2007e-01,  1.3779e-01,  4.7108e-01, -7.2874e-02, -7.2675e-01,\n",
       "        -7.4116e-01,  7.5263e-01,  8.8180e-01,  2.9561e-01,  1.3548e+00,\n",
       "        -2.5701e+00, -1.3523e+00,  4.5880e-01,  1.0068e+00, -1.1856e+00,\n",
       "         3.4737e+00,  7.7898e-01, -7.2929e-01,  2.5102e-01, -2.6156e-01,\n",
       "        -3.4684e-01,  5.5841e-01,  7.5098e-01,  4.9830e-01, -2.6823e-01,\n",
       "        -2.7443e-03, -1.8298e-02, -2.8096e-01,  5.5318e-01,  3.7706e-02,\n",
       "         1.8555e-01, -1.5025e-01, -5.7512e-01, -2.6671e-01,  9.2121e-01],\n",
       "       [ 1.1891e-01,  1.5255e-01, -8.2073e-02, -7.4144e-01,  7.5917e-01,\n",
       "        -4.8328e-01, -3.1009e-01,  5.1476e-01, -9.8708e-01,  6.1757e-04,\n",
       "        -1.5043e-01,  8.3770e-01, -1.0797e+00, -5.1460e-01,  1.3188e+00,\n",
       "         6.2007e-01,  1.3779e-01,  4.7108e-01, -7.2874e-02, -7.2675e-01,\n",
       "        -7.4116e-01,  7.5263e-01,  8.8180e-01,  2.9561e-01,  1.3548e+00,\n",
       "        -2.5701e+00, -1.3523e+00,  4.5880e-01,  1.0068e+00, -1.1856e+00,\n",
       "         3.4737e+00,  7.7898e-01, -7.2929e-01,  2.5102e-01, -2.6156e-01,\n",
       "        -3.4684e-01,  5.5841e-01,  7.5098e-01,  4.9830e-01, -2.6823e-01,\n",
       "        -2.7443e-03, -1.8298e-02, -2.8096e-01,  5.5318e-01,  3.7706e-02,\n",
       "         1.8555e-01, -1.5025e-01, -5.7512e-01, -2.6671e-01,  9.2121e-01],\n",
       "       [ 1.1891e-01,  1.5255e-01, -8.2073e-02, -7.4144e-01,  7.5917e-01,\n",
       "        -4.8328e-01, -3.1009e-01,  5.1476e-01, -9.8708e-01,  6.1757e-04,\n",
       "        -1.5043e-01,  8.3770e-01, -1.0797e+00, -5.1460e-01,  1.3188e+00,\n",
       "         6.2007e-01,  1.3779e-01,  4.7108e-01, -7.2874e-02, -7.2675e-01,\n",
       "        -7.4116e-01,  7.5263e-01,  8.8180e-01,  2.9561e-01,  1.3548e+00,\n",
       "        -2.5701e+00, -1.3523e+00,  4.5880e-01,  1.0068e+00, -1.1856e+00,\n",
       "         3.4737e+00,  7.7898e-01, -7.2929e-01,  2.5102e-01, -2.6156e-01,\n",
       "        -3.4684e-01,  5.5841e-01,  7.5098e-01,  4.9830e-01, -2.6823e-01,\n",
       "        -2.7443e-03, -1.8298e-02, -2.8096e-01,  5.5318e-01,  3.7706e-02,\n",
       "         1.8555e-01, -1.5025e-01, -5.7512e-01, -2.6671e-01,  9.2121e-01],\n",
       "       [ 1.1891e-01,  1.5255e-01, -8.2073e-02, -7.4144e-01,  7.5917e-01,\n",
       "        -4.8328e-01, -3.1009e-01,  5.1476e-01, -9.8708e-01,  6.1757e-04,\n",
       "        -1.5043e-01,  8.3770e-01, -1.0797e+00, -5.1460e-01,  1.3188e+00,\n",
       "         6.2007e-01,  1.3779e-01,  4.7108e-01, -7.2874e-02, -7.2675e-01,\n",
       "        -7.4116e-01,  7.5263e-01,  8.8180e-01,  2.9561e-01,  1.3548e+00,\n",
       "        -2.5701e+00, -1.3523e+00,  4.5880e-01,  1.0068e+00, -1.1856e+00,\n",
       "         3.4737e+00,  7.7898e-01, -7.2929e-01,  2.5102e-01, -2.6156e-01,\n",
       "        -3.4684e-01,  5.5841e-01,  7.5098e-01,  4.9830e-01, -2.6823e-01,\n",
       "        -2.7443e-03, -1.8298e-02, -2.8096e-01,  5.5318e-01,  3.7706e-02,\n",
       "         1.8555e-01, -1.5025e-01, -5.7512e-01, -2.6671e-01,  9.2121e-01],\n",
       "       [ 1.1891e-01,  1.5255e-01, -8.2073e-02, -7.4144e-01,  7.5917e-01,\n",
       "        -4.8328e-01, -3.1009e-01,  5.1476e-01, -9.8708e-01,  6.1757e-04,\n",
       "        -1.5043e-01,  8.3770e-01, -1.0797e+00, -5.1460e-01,  1.3188e+00,\n",
       "         6.2007e-01,  1.3779e-01,  4.7108e-01, -7.2874e-02, -7.2675e-01,\n",
       "        -7.4116e-01,  7.5263e-01,  8.8180e-01,  2.9561e-01,  1.3548e+00,\n",
       "        -2.5701e+00, -1.3523e+00,  4.5880e-01,  1.0068e+00, -1.1856e+00,\n",
       "         3.4737e+00,  7.7898e-01, -7.2929e-01,  2.5102e-01, -2.6156e-01,\n",
       "        -3.4684e-01,  5.5841e-01,  7.5098e-01,  4.9830e-01, -2.6823e-01,\n",
       "        -2.7443e-03, -1.8298e-02, -2.8096e-01,  5.5318e-01,  3.7706e-02,\n",
       "         1.8555e-01, -1.5025e-01, -5.7512e-01, -2.6671e-01,  9.2121e-01],\n",
       "       [ 1.1891e-01,  1.5255e-01, -8.2073e-02, -7.4144e-01,  7.5917e-01,\n",
       "        -4.8328e-01, -3.1009e-01,  5.1476e-01, -9.8708e-01,  6.1757e-04,\n",
       "        -1.5043e-01,  8.3770e-01, -1.0797e+00, -5.1460e-01,  1.3188e+00,\n",
       "         6.2007e-01,  1.3779e-01,  4.7108e-01, -7.2874e-02, -7.2675e-01,\n",
       "        -7.4116e-01,  7.5263e-01,  8.8180e-01,  2.9561e-01,  1.3548e+00,\n",
       "        -2.5701e+00, -1.3523e+00,  4.5880e-01,  1.0068e+00, -1.1856e+00,\n",
       "         3.4737e+00,  7.7898e-01, -7.2929e-01,  2.5102e-01, -2.6156e-01,\n",
       "        -3.4684e-01,  5.5841e-01,  7.5098e-01,  4.9830e-01, -2.6823e-01,\n",
       "        -2.7443e-03, -1.8298e-02, -2.8096e-01,  5.5318e-01,  3.7706e-02,\n",
       "         1.8555e-01, -1.5025e-01, -5.7512e-01, -2.6671e-01,  9.2121e-01],\n",
       "       [ 1.7698e-01,  6.5221e-02,  2.8548e-01, -4.2430e-01,  7.4990e-01,\n",
       "        -1.4892e-01, -6.6786e-01,  1.1788e-01, -4.5411e-01,  1.8540e-01,\n",
       "        -6.5107e-01, -4.3436e-01, -6.0100e-01, -1.1323e-01,  8.5217e-01,\n",
       "         2.5333e-01,  3.1332e-01,  5.9113e-02, -8.8746e-01, -4.6554e-01,\n",
       "        -3.0104e-01,  7.0689e-01,  4.5080e-01,  1.4714e-01,  6.8951e-01,\n",
       "        -1.8490e+00, -2.3012e-01,  6.7376e-01,  1.0314e+00, -8.2298e-01,\n",
       "         3.6701e+00,  6.2587e-01, -1.7666e-01,  2.2468e-01, -2.9079e-02,\n",
       "        -2.5751e-01,  1.2939e-01,  4.4485e-01,  5.2806e-01, -3.5906e-01,\n",
       "        -2.7806e-01,  2.0667e-01,  7.6161e-02,  3.2197e-01, -4.0589e-01,\n",
       "         2.3199e-01,  2.0909e-01, -2.9776e-01,  1.1035e-01,  2.2057e-01],\n",
       "       [-3.5848e-01, -1.1550e-01,  1.1371e-01,  4.6814e-01,  7.4950e-01,\n",
       "        -6.1523e-01,  4.7639e-01,  9.0754e-02,  3.6890e-01,  5.0331e-01,\n",
       "        -2.2467e-01,  2.3400e-01, -6.4901e-01,  5.5667e-02,  3.0192e-01,\n",
       "        -1.3536e-01,  9.3473e-01,  8.8677e-01, -7.0756e-01, -4.8408e-01,\n",
       "        -9.0625e-01,  6.2314e-01, -1.8793e-01, -5.1020e-01,  1.2565e+00,\n",
       "        -2.8897e-01, -1.2819e+00,  3.0284e-01,  1.0423e+00, -5.4885e-01,\n",
       "         1.0054e+00,  6.2053e-01,  3.1879e-01, -6.0822e-02, -2.4919e-01,\n",
       "         5.0190e-01,  4.1171e-01,  1.3648e-01, -4.9815e-01, -5.9822e-01,\n",
       "        -1.6876e-01, -2.6096e-01, -5.3283e-01,  2.0083e-01, -1.9095e-01,\n",
       "        -2.8693e-02,  9.0843e-02, -1.1063e-01, -4.0858e-02,  8.8439e-01],\n",
       "       [ 6.8491e-01,  3.2385e-01, -1.1592e-01, -3.5925e-01,  4.9889e-01,\n",
       "         4.2541e-02, -4.0153e-01, -3.6793e-01, -6.1441e-01, -4.1148e-01,\n",
       "        -3.4820e-01, -2.1952e-01, -2.2393e-01, -6.4966e-01,  8.5443e-01,\n",
       "         3.3582e-01,  2.9310e-01,  1.6552e-01, -5.5082e-01, -6.1277e-01,\n",
       "        -1.4768e-01,  4.7551e-01,  6.5877e-01, -7.1030e-02,  5.6147e-01,\n",
       "        -1.2651e+00, -7.4117e-01,  3.6365e-01,  5.6230e-01, -2.7365e-01,\n",
       "         3.8506e+00,  2.7645e-01, -1.0090e-01, -7.1568e-01,  1.8511e-01,\n",
       "        -1.2312e-01,  5.6631e-01, -2.2377e-01, -1.6831e-02,  5.7539e-01,\n",
       "        -5.1761e-01,  3.3823e-02,  1.9643e-01,  6.3498e-01, -2.4866e-01,\n",
       "         3.8716e-02, -5.0559e-01,  1.7874e-01, -1.6930e-01,  6.2375e-02]],\n",
       "      dtype=float32)"
      ]
     },
     "execution_count": 35,
     "metadata": {},
     "output_type": "execute_result"
    }
   ],
   "source": [
    "output_array"
   ]
  },
  {
   "cell_type": "code",
   "execution_count": 37,
   "id": "ca2b5a3f",
   "metadata": {},
   "outputs": [],
   "source": [
    "# Importing generic python packages\n",
    "import pandas as pd\n",
    "# Reading the data\n",
    "train = pd.read_csv('data/train.csv')[['text', 'target']]\n",
    "test = pd.read_csv('data/test.csv')\n",
    "# Creating the input for the pipeline\n",
    "X_train = train['text'].tolist()\n",
    "Y_train = train['target'].tolist()\n",
    "X_test = test['text'].tolist()"
   ]
  },
  {
   "cell_type": "code",
   "execution_count": 38,
   "id": "71d487b2",
   "metadata": {},
   "outputs": [
    {
     "data": {
      "text/html": [
       "<div>\n",
       "<style scoped>\n",
       "    .dataframe tbody tr th:only-of-type {\n",
       "        vertical-align: middle;\n",
       "    }\n",
       "\n",
       "    .dataframe tbody tr th {\n",
       "        vertical-align: top;\n",
       "    }\n",
       "\n",
       "    .dataframe thead th {\n",
       "        text-align: right;\n",
       "    }\n",
       "</style>\n",
       "<table border=\"1\" class=\"dataframe\">\n",
       "  <thead>\n",
       "    <tr style=\"text-align: right;\">\n",
       "      <th></th>\n",
       "      <th>target</th>\n",
       "      <th>text</th>\n",
       "    </tr>\n",
       "  </thead>\n",
       "  <tbody>\n",
       "    <tr>\n",
       "      <th>0</th>\n",
       "      <td>0</td>\n",
       "      <td>4342</td>\n",
       "    </tr>\n",
       "    <tr>\n",
       "      <th>1</th>\n",
       "      <td>1</td>\n",
       "      <td>3271</td>\n",
       "    </tr>\n",
       "  </tbody>\n",
       "</table>\n",
       "</div>"
      ],
      "text/plain": [
       "   target  text\n",
       "0       0  4342\n",
       "1       1  3271"
      ]
     },
     "execution_count": 38,
     "metadata": {},
     "output_type": "execute_result"
    }
   ],
   "source": [
    "train.groupby(['target'], as_index=False).count()"
   ]
  },
  {
   "cell_type": "code",
   "execution_count": 40,
   "id": "9e11e02a",
   "metadata": {},
   "outputs": [],
   "source": [
    "# Reading the stop words\n",
    "stop_words = []\n",
    "try:\n",
    "    stop_words = pd.read_csv('data/stop_words.txt', sep='\\n', header=None)[0].tolist()\n",
    "except Exception as e:\n",
    "    # This exception indicates that the file is missing or is in a bad format\n",
    "    print('Bad stop_words.txt file: {e}')"
   ]
  },
  {
   "cell_type": "code",
   "execution_count": 41,
   "id": "381d6a59",
   "metadata": {},
   "outputs": [
    {
     "data": {
      "image/png": "[encoded data removed]",
      "text/plain": [
       "<Figure size 432x288 with 1 Axes>"
      ]
     },
     "metadata": {
      "needs_background": "light"
     },
     "output_type": "display_data"
    },
    {
     "data": {
      "image/png": "[encoded data removed]",
      "text/plain": [
       "<Figure size 432x288 with 1 Axes>"
      ]
     },
     "metadata": {
      "needs_background": "light"
     },
     "output_type": "display_data"
    }
   ],
   "source": [
    "# Counting the number of words\n",
    "from collections import Counter\n",
    "# Plotting functions\n",
    "import matplotlib.pyplot as plt\n",
    "X_train = [clean_text(text) for text in X_train]\n",
    "Y_train = np.asarray(Y_train)\n",
    "# Tokenizing the text\n",
    "tokenizer = Tokenizer()\n",
    "tokenizer.fit_on_texts(X_train)\n",
    "# Getting the most frequent words\n",
    "d1 = train.loc[train['target']==1, 'text'].tolist()\n",
    "d0 = train.loc[train['target']==0, 'text'].tolist()\n",
    "d1 = [clean_text(x, stop_words=stop_words) for x in d1]\n",
    "d0 = [clean_text(x, stop_words=stop_words) for x in d0]\n",
    "d1_text = ' '.join(d1).split()\n",
    "d0_text = ' '.join(d0).split()\n",
    "topd1 = Counter(d1_text)\n",
    "topd0 = Counter(d0_text)\n",
    "topd1 = topd1.most_common(20)\n",
    "topd0 = topd0.most_common(20)\n",
    "plt.bar(range(len(topd1)), [val[1] for val in topd1], align='center')\n",
    "plt.xticks(range(len(topd1)), [val[0] for val in topd1])\n",
    "plt.xticks(rotation=70)\n",
    "plt.title('Disaster tweets')\n",
    "plt.show()\n",
    "plt.bar(range(len(topd0)), [val[1] for val in topd0], align='center')\n",
    "plt.xticks(range(len(topd0)), [val[0] for val in topd0])\n",
    "plt.xticks(rotation=70)\n",
    "plt.title('Not disaster tweets')\n",
    "plt.show()"
   ]
  },
  {
   "cell_type": "code",
   "execution_count": 63,
   "id": "1cf298e8",
   "metadata": {},
   "outputs": [],
   "source": [
    "class RnnModel():\n",
    "    \"\"\"\n",
    "    A recurrent neural network for semantic analysis\n",
    "    \"\"\"\n",
    "\n",
    "    def __init__(self, embedding_matrix, embedding_dim, max_len, X_additional=None):\n",
    "        \n",
    "        inp1 = Input(shape=(max_len,))\n",
    "        x = Embedding(embedding_matrix.shape[0], embedding_dim, weights=[embedding_matrix])(inp1)\n",
    "        x = Bidirectional(LSTM(256, return_sequences=True))(x)\n",
    "        x = Bidirectional(LSTM(150))(x)\n",
    "        x = Dense(128, activation=\"relu\")(x)\n",
    "        x = Dropout(0.1)(x)\n",
    "        x = Dense(64, activation=\"relu\")(x)\n",
    "        x = Dense(1, activation=\"sigmoid\")(x)    \n",
    "        model = Model(inputs=inp1, outputs=x)\n",
    "\n",
    "        model.compile(loss = 'binary_crossentropy', optimizer = 'adam')\n",
    "        self.model = model"
   ]
  },
  {
   "cell_type": "code",
   "execution_count": 83,
   "id": "eb1c1507",
   "metadata": {},
   "outputs": [],
   "source": [
    "#import numpy as np\n",
    "\n",
    "# The main model class\n",
    "#from RNN_model import RnnModel\n",
    "\n",
    "# Importing the word preprocesing class\n",
    "#from text_preprocessing import TextToTensor, clean_text\n",
    "\n",
    "# Importing the word embedding class\n",
    "#from embeddings import Embeddings\n",
    "\n",
    "# Loading the word tokenizer\n",
    "#from keras.preprocessing.text import Tokenizer\n",
    "\n",
    "# For accuracy calculations\n",
    "from sklearn.metrics import accuracy_score\n",
    "\n",
    "\n",
    "class Pipeline:\n",
    "    \"\"\"\n",
    "    A class for the machine learning pipeline\n",
    "    \"\"\"\n",
    "    def __init__(\n",
    "        self, \n",
    "        X_train: list, \n",
    "        Y_train: list, \n",
    "        embed_path: str, \n",
    "        embed_dim: int,\n",
    "        stop_words=[],\n",
    "        X_test=[], \n",
    "        Y_test=[],\n",
    "        epochs=3,\n",
    "        batch_size=256\n",
    "        ):\n",
    "\n",
    "        # Preprocecing the text\n",
    "        X_train = [clean_text(text, stop_words=stop_words) for text in X_train]\n",
    "        Y_train = np.asarray(Y_train)\n",
    "        \n",
    "        # Tokenizing the text\n",
    "        tokenizer = Tokenizer()\n",
    "        tokenizer.fit_on_texts(X_train)\n",
    "\n",
    "        # Creating the embedding matrix\n",
    "        embedding = Embeddings(embed_path, embed_dim)\n",
    "        embedding_matrix = embedding.create_embedding_matrix(tokenizer, len(tokenizer.word_counts))\n",
    "\n",
    "        # Creating the padded input for the deep learning model\n",
    "        max_len = np.max([len(text.split()) for text in X_train])\n",
    "        TextToTensor_instance = TextToTensor(\n",
    "            tokenizer=tokenizer, \n",
    "            max_len=max_len\n",
    "            )\n",
    "        X_train = TextToTensor_instance.string_to_tensor(X_train)\n",
    "\n",
    "        # Creating the model\n",
    "        rnn = RnnModel(\n",
    "            embedding_matrix=embedding_matrix, \n",
    "            embedding_dim=embed_dim, \n",
    "            max_len=max_len\n",
    "        )\n",
    "        rnn.model.fit(\n",
    "            X_train,\n",
    "            Y_train, \n",
    "            batch_size=batch_size, \n",
    "            epochs=epochs\n",
    "        )\n",
    "\n",
    "        self.model = rnn.model\n",
    "\n",
    "        # If X_test is provided we make predictions with the created model\n",
    "        if len(X_test)>0:\n",
    "            X_test = [clean_text(text) for text in X_test]\n",
    "            X_test = TextToTensor_instance.string_to_tensor(X_test)\n",
    "            yhat = [x[0] for x in rnn.model.predict(X_test).tolist()]\n",
    "            \n",
    "            self.yhat = yhat\n",
    "\n",
    "            # If true labels are provided we calculate the accuracy of the model\n",
    "            if len(Y_test)>0:\n",
    "                self.acc = accuracy_score(Y_test, [1 if x > 0.5 else 0 for x in yhat])"
   ]
  },
  {
   "cell_type": "code",
   "execution_count": null,
   "id": "3a45496e",
   "metadata": {},
   "outputs": [],
   "source": [
    "results = Pipeline(\n",
    "X_train=X_train,\n",
    "Y_train=Y_train,\n",
    "embed_path='embeddings\\\\glove.840B.300d.txt',\n",
    "embed_dim=300,\n",
    "stop_words=stop_words,\n",
    "X_test=X_test,\n",
    "# max_len=20,\n",
    "epochs=10,\n",
    "batch_size=256\n",
    ")"
   ]
  },
  {
   "cell_type": "code",
   "execution_count": null,
   "id": "ebf1b252",
   "metadata": {},
   "outputs": [],
   "source": [
    "TextToTensor_instance = TextToTensor(\n",
    "tokenizer=results.tokenizer,\n",
    "max_len=20\n",
    ")\n",
    "# Converting to tensors\n",
    "good_nn = TextToTensor_instance.string_to_tensor(good)\n",
    "bad_nn = TextToTensor_instance.string_to_tensor(bad)\n",
    "# Forecasting\n",
    "p_good = results.model.predict(good_nn)[0][0]\n",
    "p_bad = results.model.predict(bad_nn)[0][0]"
   ]
  },
  {
   "cell_type": "code",
   "execution_count": null,
   "id": "65578dc1",
   "metadata": {},
   "outputs": [],
   "source": []
  }
 ],
 "metadata": {
  "kernelspec": {
   "display_name": "Python 3 (ipykernel)",
   "language": "python",
   "name": "python3"
  },
  "language_info": {
   "codemirror_mode": {
    "name": "ipython",
    "version": 3
   },
   "file_extension": ".py",
   "mimetype": "text/x-python",
   "name": "python",
   "nbconvert_exporter": "python",
   "pygments_lexer": "ipython3",
   "version": "3.9.7"
  }
 },
 "nbformat": 4,
 "nbformat_minor": 5
}
