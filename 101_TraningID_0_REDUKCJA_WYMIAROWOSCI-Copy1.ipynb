{
 "cells": [
  {
   "cell_type": "markdown",
   "id": "1f403900",
   "metadata": {},
   "source": [
    "https://www.adriangb.com/scikeras/stable/quickstart.html#training-a-model"
   ]
  },
  {
   "cell_type": "markdown",
   "id": "b840ae96",
   "metadata": {},
   "source": [
    "https://machinelearningmastery.com/regression-tutorial-keras-deep-learning-library-python/"
   ]
  },
  {
   "cell_type": "code",
   "execution_count": 1,
   "id": "ed4d6528",
   "metadata": {},
   "outputs": [],
   "source": [
    "#!pip install -U -q segmentation-models"
   ]
  },
  {
   "cell_type": "code",
   "execution_count": 2,
   "id": "00b7e80f",
   "metadata": {},
   "outputs": [],
   "source": [
    "#!pip install scikeras"
   ]
  },
  {
   "cell_type": "code",
   "execution_count": 3,
   "id": "64497578",
   "metadata": {},
   "outputs": [],
   "source": [
    "import os\n",
    "import pandas as pd\n",
    "import numpy as np"
   ]
  },
  {
   "cell_type": "code",
   "execution_count": 4,
   "id": "96fefa2b",
   "metadata": {},
   "outputs": [
    {
     "data": {
      "text/plain": [
       "'1.0.1'"
      ]
     },
     "execution_count": 4,
     "metadata": {},
     "output_type": "execute_result"
    }
   ],
   "source": [
    "import sklearn\n",
    "sklearn.__version__"
   ]
  },
  {
   "cell_type": "code",
   "execution_count": 40,
   "id": "a0f11482",
   "metadata": {},
   "outputs": [],
   "source": [
    "from sklearn.model_selection import train_test_split\n",
    "from sklearn.model_selection import StratifiedShuffleSplit\n",
    "from sklearn.model_selection import StratifiedKFold\n",
    "from sklearn.preprocessing import StandardScaler\n",
    "from sklearn.datasets import make_classification"
   ]
  },
  {
   "cell_type": "code",
   "execution_count": 6,
   "id": "da681dde",
   "metadata": {},
   "outputs": [
    {
     "data": {
      "text/plain": [
       "'2.5.0'"
      ]
     },
     "execution_count": 6,
     "metadata": {},
     "output_type": "execute_result"
    }
   ],
   "source": [
    "import tensorflow as tf\n",
    "tf.__version__"
   ]
  },
  {
   "cell_type": "code",
   "execution_count": 7,
   "id": "185275d5",
   "metadata": {},
   "outputs": [
    {
     "data": {
      "text/plain": [
       "'2.5.0'"
      ]
     },
     "execution_count": 7,
     "metadata": {},
     "output_type": "execute_result"
    }
   ],
   "source": [
    "from tensorflow import keras\n",
    "#import keras\n",
    "keras.__version__"
   ]
  },
  {
   "cell_type": "code",
   "execution_count": 38,
   "id": "9457cab4",
   "metadata": {},
   "outputs": [],
   "source": [
    "from scikeras.wrappers import KerasClassifier, KerasRegressor"
   ]
  },
  {
   "cell_type": "code",
   "execution_count": 9,
   "id": "41e42012",
   "metadata": {},
   "outputs": [
    {
     "name": "stdout",
     "output_type": "stream",
     "text": [
      "32/32 [==============================] - 1s 4ms/step - loss: 0.6705\n",
      "32/32 [==============================] - 0s 774us/step\n"
     ]
    }
   ],
   "source": [
    "X, y = make_classification(1000, 20, n_informative=10, random_state=0)\n",
    "X = X.astype(np.float32)\n",
    "y = y.astype(np.int64)\n",
    "\n",
    "def get_model(hidden_layer_dim, meta):\n",
    "    # note that meta is a special argument that will be\n",
    "    # handed a dict containing input metadata\n",
    "    n_features_in_ = meta[\"n_features_in_\"]\n",
    "    X_shape_ = meta[\"X_shape_\"]\n",
    "    n_classes_ = meta[\"n_classes_\"]\n",
    "\n",
    "    model = keras.models.Sequential()\n",
    "    model.add(keras.layers.Dense(n_features_in_, input_shape=X_shape_[1:]))\n",
    "    model.add(keras.layers.Activation(\"relu\"))\n",
    "    model.add(keras.layers.Dense(hidden_layer_dim))\n",
    "    model.add(keras.layers.Activation(\"relu\"))\n",
    "    model.add(keras.layers.Dense(n_classes_))\n",
    "    model.add(keras.layers.Activation(\"softmax\"))\n",
    "    return model\n",
    "\n",
    "clf = KerasClassifier(\n",
    "    get_model,\n",
    "    loss=\"sparse_categorical_crossentropy\",\n",
    "    hidden_layer_dim=100,\n",
    ")\n",
    "\n",
    "clf.fit(X, y)\n",
    "y_proba = clf.predict_proba(X)"
   ]
  },
  {
   "cell_type": "code",
   "execution_count": 10,
   "id": "20230d06",
   "metadata": {},
   "outputs": [
    {
     "name": "stdout",
     "output_type": "stream",
     "text": [
      "32/32 [==============================] - 1s 4ms/step - loss: 0.6615\n",
      "32/32 [==============================] - 0s 903us/step\n"
     ]
    }
   ],
   "source": [
    "from sklearn.pipeline import Pipeline\n",
    "from sklearn.preprocessing import StandardScaler\n",
    "\n",
    "\n",
    "pipe = Pipeline([\n",
    "    ('scale', StandardScaler()),\n",
    "    ('clf', clf),\n",
    "])\n",
    "\n",
    "pipe.fit(X, y)\n",
    "y_proba = pipe.predict_proba(X)"
   ]
  },
  {
   "cell_type": "code",
   "execution_count": 11,
   "id": "f51e1403",
   "metadata": {},
   "outputs": [
    {
     "data": {
      "text/plain": [
       "Pipeline(steps=[('scale', StandardScaler()),\n",
       "                ('clf',\n",
       "                 KerasClassifier(hidden_layer_dim=100, loss='sparse_categorical_crossentropy', model=<function get_model at 0x000001EA40B2B160>))])"
      ]
     },
     "execution_count": 11,
     "metadata": {},
     "output_type": "execute_result"
    }
   ],
   "source": [
    "pipe"
   ]
  },
  {
   "cell_type": "code",
   "execution_count": 12,
   "id": "26a919e5",
   "metadata": {},
   "outputs": [
    {
     "data": {
      "text/plain": [
       "KerasClassifier(\n",
       "\tmodel=<function get_model at 0x000001EA40B2B160>\n",
       "\tbuild_fn=None\n",
       "\twarm_start=False\n",
       "\trandom_state=None\n",
       "\toptimizer=rmsprop\n",
       "\tloss=sparse_categorical_crossentropy\n",
       "\tmetrics=None\n",
       "\tbatch_size=None\n",
       "\tvalidation_batch_size=None\n",
       "\tverbose=1\n",
       "\tcallbacks=None\n",
       "\tvalidation_split=0.0\n",
       "\tshuffle=True\n",
       "\trun_eagerly=False\n",
       "\tepochs=1\n",
       "\thidden_layer_dim=100\n",
       "\tclass_weight=None\n",
       ")"
      ]
     },
     "execution_count": 12,
     "metadata": {},
     "output_type": "execute_result"
    }
   ],
   "source": [
    "pipe[1]"
   ]
  },
  {
   "cell_type": "code",
   "execution_count": 13,
   "id": "9100590b",
   "metadata": {
    "scrolled": true
   },
   "outputs": [
    {
     "name": "stdout",
     "output_type": "stream",
     "text": [
      "21/21 [==============================] - 0s 2ms/step - loss: 0.9186\n",
      "11/11 [==============================] - 0s 800us/step\n",
      "21/21 [==============================] - 0s 2ms/step - loss: 0.7485\n",
      "11/11 [==============================] - 0s 1000us/step\n",
      "21/21 [==============================] - 0s 2ms/step - loss: 0.8974\n",
      "11/11 [==============================] - 0s 800us/step\n",
      "21/21 [==============================] - 0s 2ms/step - loss: 0.7075\n",
      "11/11 [==============================] - 0s 800us/step\n",
      "21/21 [==============================] - 0s 2ms/step - loss: 0.6747\n",
      "11/11 [==============================] - 0s 1ms/step\n",
      "21/21 [==============================] - 0s 2ms/step - loss: 0.6864\n",
      "11/11 [==============================] - 0s 900us/step\n",
      "21/21 [==============================] - 0s 2ms/step - loss: 1.1132\n",
      "11/11 [==============================] - 0s 1000us/step\n",
      "21/21 [==============================] - 0s 3ms/step - loss: 1.2620\n",
      "11/11 [==============================] - 0s 900us/step\n",
      "21/21 [==============================] - 0s 3ms/step - loss: 0.7449\n",
      "11/11 [==============================] - 0s 1ms/step\n",
      "21/21 [==============================] - 0s 3ms/step - loss: 0.8884\n",
      "11/11 [==============================] - 0s 1ms/step\n",
      "21/21 [==============================] - 0s 3ms/step - loss: 1.0330\n",
      "11/11 [==============================] - 0s 1ms/step\n",
      "21/21 [==============================] - 0s 2ms/step - loss: 1.0753\n",
      "11/11 [==============================] - 0s 1ms/step\n",
      "21/21 [==============================] - 0s 3ms/step - loss: 0.9004\n",
      "11/11 [==============================] - 0s 900us/step\n",
      "21/21 [==============================] - 0s 3ms/step - loss: 0.8345\n",
      "11/11 [==============================] - 0s 800us/step\n",
      "21/21 [==============================] - 0s 3ms/step - loss: 1.2765\n",
      "11/11 [==============================] - 0s 900us/step\n",
      "21/21 [==============================] - 0s 3ms/step - loss: 0.6181\n",
      "11/11 [==============================] - 0s 1ms/step\n",
      "21/21 [==============================] - 0s 3ms/step - loss: 0.6065\n",
      "11/11 [==============================] - 0s 1ms/step\n",
      "21/21 [==============================] - 0s 3ms/step - loss: 0.6008\n",
      "11/11 [==============================] - 0s 1ms/step\n",
      "21/21 [==============================] - 0s 3ms/step - loss: 0.7507\n",
      "11/11 [==============================] - 0s 800us/step\n",
      "21/21 [==============================] - 0s 3ms/step - loss: 0.7663\n",
      "11/11 [==============================] - 0s 1ms/step\n",
      "21/21 [==============================] - 0s 3ms/step - loss: 0.7985\n",
      "11/11 [==============================] - 0s 1ms/step\n",
      "21/21 [==============================] - 0s 3ms/step - loss: 0.7626\n",
      "11/11 [==============================] - 0s 1ms/step\n",
      "21/21 [==============================] - 1s 3ms/step - loss: 0.6961\n",
      "11/11 [==============================] - 0s 1000us/step\n",
      "21/21 [==============================] - 0s 3ms/step - loss: 0.7519\n",
      "11/11 [==============================] - 0s 1ms/step\n",
      "21/21 [==============================] - 0s 3ms/step - loss: 1.1118\n",
      "11/11 [==============================] - 0s 900us/step\n",
      "21/21 [==============================] - 0s 3ms/step - loss: 1.3601\n",
      "11/11 [==============================] - 0s 1ms/step\n",
      "21/21 [==============================] - 0s 3ms/step - loss: 1.4355\n",
      "11/11 [==============================] - 0s 1ms/step\n",
      "21/21 [==============================] - 0s 3ms/step - loss: 0.7296\n",
      "11/11 [==============================] - 0s 998us/step\n",
      "21/21 [==============================] - 0s 3ms/step - loss: 0.7440\n",
      "11/11 [==============================] - 0s 1ms/step\n",
      "21/21 [==============================] - 0s 3ms/step - loss: 0.7378\n",
      "11/11 [==============================] - 0s 1ms/step\n",
      "21/21 [==============================] - 0s 3ms/step - loss: 0.7292\n",
      "11/11 [==============================] - 0s 1ms/step\n",
      "21/21 [==============================] - 0s 3ms/step - loss: 0.7903\n",
      "11/11 [==============================] - 0s 1ms/step\n",
      "21/21 [==============================] - 0s 3ms/step - loss: 0.6985\n",
      "11/11 [==============================] - 0s 800us/step\n",
      "21/21 [==============================] - 0s 3ms/step - loss: 0.6246\n",
      "11/11 [==============================] - 0s 1ms/step\n",
      "21/21 [==============================] - 0s 3ms/step - loss: 0.6635\n",
      "11/11 [==============================] - 0s 1ms/step\n",
      "21/21 [==============================] - 0s 3ms/step - loss: 0.6750\n",
      "11/11 [==============================] - 0s 1ms/step\n",
      "21/21 [==============================] - 0s 3ms/step - loss: 0.6784\n",
      "11/11 [==============================] - 0s 1ms/step\n",
      "21/21 [==============================] - 0s 3ms/step - loss: 0.7954\n",
      "11/11 [==============================] - 0s 800us/step\n",
      "21/21 [==============================] - 0s 3ms/step - loss: 0.7959\n",
      "11/11 [==============================] - 0s 1000us/step\n",
      "21/21 [==============================] - 1s 3ms/step - loss: 0.6836\n",
      "11/11 [==============================] - 0s 800us/step\n",
      "21/21 [==============================] - 0s 3ms/step - loss: 0.6569\n",
      "11/11 [==============================] - 0s 1ms/step\n",
      "21/21 [==============================] - 0s 3ms/step - loss: 0.6652\n",
      "11/11 [==============================] - 0s 1ms/step\n",
      "21/21 [==============================] - 0s 3ms/step - loss: 1.8730\n",
      "11/11 [==============================] - 0s 1ms/step\n",
      "21/21 [==============================] - 0s 3ms/step - loss: 1.4982\n",
      "11/11 [==============================] - 0s 900us/step\n",
      "21/21 [==============================] - 1s 3ms/step - loss: 2.2520\n",
      "11/11 [==============================] - 0s 1000us/step\n",
      "21/21 [==============================] - 0s 3ms/step - loss: 0.8712\n",
      "11/11 [==============================] - 0s 1ms/step\n",
      "21/21 [==============================] - 0s 3ms/step - loss: 0.6901\n",
      "11/11 [==============================] - 0s 1ms/step\n",
      "21/21 [==============================] - 0s 3ms/step - loss: 0.6926\n",
      "11/11 [==============================] - 0s 1ms/step\n",
      "21/21 [==============================] - 0s 3ms/step - loss: 0.7167\n",
      "11/11 [==============================] - 0s 1ms/step\n",
      "21/21 [==============================] - 0s 3ms/step - loss: 0.7354\n",
      "11/11 [==============================] - 0s 1ms/step\n",
      "21/21 [==============================] - 0s 3ms/step - loss: 0.7050\n",
      "11/11 [==============================] - 0s 1ms/step\n",
      "21/21 [==============================] - 0s 3ms/step - loss: 0.6551\n",
      "11/11 [==============================] - 0s 1000us/step\n",
      "21/21 [==============================] - 0s 3ms/step - loss: 0.6282\n",
      "11/11 [==============================] - 0s 900us/step\n",
      "21/21 [==============================] - 0s 3ms/step - loss: 0.6157\n",
      "11/11 [==============================] - 0s 800us/step\n",
      "0.7220274166381951 {'hidden_layer_dim': 50, 'loss': 'sparse_categorical_crossentropy', 'optimizer': 'adam', 'optimizer__learning_rate': 0.1}\n"
     ]
    }
   ],
   "source": [
    "from sklearn.model_selection import GridSearchCV\n",
    "\n",
    "params = {\n",
    "    \"hidden_layer_dim\": [50, 100, 200],\n",
    "    \"loss\": [\"sparse_categorical_crossentropy\"],\n",
    "    \"optimizer\": [\"adam\", \"sgd\"],\n",
    "    \"optimizer__learning_rate\": [0.0001, 0.001, 0.1],\n",
    "}\n",
    "gs = GridSearchCV(estimator=pipe[1], param_grid=params, refit=False, cv=3, scoring='accuracy')\n",
    "\n",
    "gs.fit(X, y)\n",
    "print(gs.best_score_, gs.best_params_)"
   ]
  },
  {
   "cell_type": "code",
   "execution_count": 14,
   "id": "84e93315",
   "metadata": {},
   "outputs": [],
   "source": [
    "#os.environ['CUDA_VISIBLE_DEVICES'] = '0'\n",
    "#os.environ[\"SM_FRAMEWORK\"] = \"tf.keras\""
   ]
  },
  {
   "cell_type": "code",
   "execution_count": 15,
   "id": "a2528711",
   "metadata": {
    "scrolled": true
   },
   "outputs": [],
   "source": [
    "#import segmentation_models as sm"
   ]
  },
  {
   "cell_type": "code",
   "execution_count": 16,
   "id": "75bce240",
   "metadata": {},
   "outputs": [],
   "source": [
    "%load_ext memory_profiler"
   ]
  },
  {
   "cell_type": "code",
   "execution_count": 17,
   "id": "f610a450",
   "metadata": {},
   "outputs": [
    {
     "name": "stdout",
     "output_type": "stream",
     "text": [
      "peak memory: 1671.33 MiB, increment: 276.30 MiB\n"
     ]
    }
   ],
   "source": [
    "%memit TrainingID_0 = pd.read_parquet(path='009_TraningID_0_INZYNIERIA_CECH/TraningID_0_INZYNIERIA_CECH.parquet', engine='pyarrow')"
   ]
  },
  {
   "cell_type": "code",
   "execution_count": 18,
   "id": "062483c3",
   "metadata": {},
   "outputs": [
    {
     "data": {
      "text/html": [
       "<div>\n",
       "<style scoped>\n",
       "    .dataframe tbody tr th:only-of-type {\n",
       "        vertical-align: middle;\n",
       "    }\n",
       "\n",
       "    .dataframe tbody tr th {\n",
       "        vertical-align: top;\n",
       "    }\n",
       "\n",
       "    .dataframe thead th {\n",
       "        text-align: right;\n",
       "    }\n",
       "</style>\n",
       "<table border=\"1\" class=\"dataframe\">\n",
       "  <thead>\n",
       "    <tr style=\"text-align: right;\">\n",
       "      <th></th>\n",
       "      <th>StudentID_TrainingSession</th>\n",
       "      <th>TrainingID_0_target</th>\n",
       "      <th>TrainingID_1_target</th>\n",
       "      <th>TrainingID_2_target</th>\n",
       "      <th>TrainingID_TrainingSession</th>\n",
       "      <th>target(zdany_egzamin: 1 - zdany, 0 - nie zdany)</th>\n",
       "      <th>czy_doswiadczenie_serwisowe_pompownia</th>\n",
       "      <th>czy_doswiadczenie_serwisowe_brak</th>\n",
       "      <th>czy_doswiadczenie_serwisowe_rooftop</th>\n",
       "      <th>czy_doswiadczenie_serwisowe_klimatyzator</th>\n",
       "      <th>...</th>\n",
       "      <th>PhysicalFixationRecords_COUNT_DEVIATION_PhysicalFixationRecords_COUNT_x_TaskID_75</th>\n",
       "      <th>PhysicalFixationRecords_COUNT_DEVIATION_PhysicalFixationRecords_COUNT_x_TaskID_76</th>\n",
       "      <th>PhysicalFixationRecords_COUNT_DEVIATION_PhysicalFixationRecords_COUNT_x_TaskID_77</th>\n",
       "      <th>PhysicalFixationRecords_COUNT_DEVIATION_PhysicalFixationRecords_COUNT_x_TaskID_78</th>\n",
       "      <th>PhysicalFixationRecords_COUNT_DEVIATION_PhysicalFixationRecords_COUNT_x_TaskID_79</th>\n",
       "      <th>PhysicalFixationRecords_COUNT_DEVIATION_PhysicalFixationRecords_COUNT_x_TaskID_80</th>\n",
       "      <th>PhysicalFixationRecords_COUNT_DEVIATION_PhysicalFixationRecords_COUNT_x_TaskID_81</th>\n",
       "      <th>PhysicalFixationRecords_COUNT_DEVIATION_PhysicalFixationRecords_COUNT_x_TaskID_82</th>\n",
       "      <th>PhysicalFixationRecords_COUNT_DEVIATION_PhysicalFixationRecords_COUNT_x_TaskID_83</th>\n",
       "      <th>PhysicalFixationRecords_COUNT_DEVIATION_PhysicalFixationRecords_COUNT_x_TaskID_84</th>\n",
       "    </tr>\n",
       "  </thead>\n",
       "  <tbody>\n",
       "    <tr>\n",
       "      <th>0</th>\n",
       "      <td>BADANY010507</td>\n",
       "      <td>1.0</td>\n",
       "      <td>0.0</td>\n",
       "      <td>0.0</td>\n",
       "      <td>0.0</td>\n",
       "      <td>1</td>\n",
       "      <td>1.0</td>\n",
       "      <td>0.0</td>\n",
       "      <td>1.0</td>\n",
       "      <td>1.0</td>\n",
       "      <td>...</td>\n",
       "      <td>0.000000</td>\n",
       "      <td>0.000000</td>\n",
       "      <td>0.000000</td>\n",
       "      <td>0.000000</td>\n",
       "      <td>0.000000</td>\n",
       "      <td>0.0</td>\n",
       "      <td>0.000000</td>\n",
       "      <td>0.0</td>\n",
       "      <td>0.000000</td>\n",
       "      <td>0.000000</td>\n",
       "    </tr>\n",
       "    <tr>\n",
       "      <th>1</th>\n",
       "      <td>BADANY010607</td>\n",
       "      <td>1.0</td>\n",
       "      <td>1.0</td>\n",
       "      <td>1.0</td>\n",
       "      <td>0.0</td>\n",
       "      <td>1</td>\n",
       "      <td>0.0</td>\n",
       "      <td>1.0</td>\n",
       "      <td>0.0</td>\n",
       "      <td>0.0</td>\n",
       "      <td>...</td>\n",
       "      <td>0.000000</td>\n",
       "      <td>0.000000</td>\n",
       "      <td>0.000000</td>\n",
       "      <td>0.707107</td>\n",
       "      <td>0.707107</td>\n",
       "      <td>0.0</td>\n",
       "      <td>0.707107</td>\n",
       "      <td>0.0</td>\n",
       "      <td>0.000000</td>\n",
       "      <td>0.000000</td>\n",
       "    </tr>\n",
       "    <tr>\n",
       "      <th>2</th>\n",
       "      <td>BADANY010707</td>\n",
       "      <td>1.0</td>\n",
       "      <td>1.0</td>\n",
       "      <td>1.0</td>\n",
       "      <td>0.0</td>\n",
       "      <td>1</td>\n",
       "      <td>0.0</td>\n",
       "      <td>1.0</td>\n",
       "      <td>0.0</td>\n",
       "      <td>0.0</td>\n",
       "      <td>...</td>\n",
       "      <td>0.000000</td>\n",
       "      <td>0.000000</td>\n",
       "      <td>0.000000</td>\n",
       "      <td>0.000000</td>\n",
       "      <td>-1.091089</td>\n",
       "      <td>0.0</td>\n",
       "      <td>-1.154701</td>\n",
       "      <td>0.0</td>\n",
       "      <td>-1.091089</td>\n",
       "      <td>0.000000</td>\n",
       "    </tr>\n",
       "    <tr>\n",
       "      <th>3</th>\n",
       "      <td>BADANY010807</td>\n",
       "      <td>0.0</td>\n",
       "      <td>0.0</td>\n",
       "      <td>0.0</td>\n",
       "      <td>0.0</td>\n",
       "      <td>0</td>\n",
       "      <td>0.0</td>\n",
       "      <td>0.0</td>\n",
       "      <td>0.0</td>\n",
       "      <td>1.0</td>\n",
       "      <td>...</td>\n",
       "      <td>0.000000</td>\n",
       "      <td>0.000000</td>\n",
       "      <td>0.000000</td>\n",
       "      <td>0.000000</td>\n",
       "      <td>0.000000</td>\n",
       "      <td>0.0</td>\n",
       "      <td>0.000000</td>\n",
       "      <td>0.0</td>\n",
       "      <td>0.000000</td>\n",
       "      <td>0.000000</td>\n",
       "    </tr>\n",
       "    <tr>\n",
       "      <th>4</th>\n",
       "      <td>BADANY010907</td>\n",
       "      <td>1.0</td>\n",
       "      <td>0.0</td>\n",
       "      <td>0.0</td>\n",
       "      <td>0.0</td>\n",
       "      <td>1</td>\n",
       "      <td>0.0</td>\n",
       "      <td>1.0</td>\n",
       "      <td>0.0</td>\n",
       "      <td>0.0</td>\n",
       "      <td>...</td>\n",
       "      <td>0.000000</td>\n",
       "      <td>0.000000</td>\n",
       "      <td>0.000000</td>\n",
       "      <td>0.000000</td>\n",
       "      <td>0.000000</td>\n",
       "      <td>0.0</td>\n",
       "      <td>0.000000</td>\n",
       "      <td>0.0</td>\n",
       "      <td>0.000000</td>\n",
       "      <td>0.000000</td>\n",
       "    </tr>\n",
       "    <tr>\n",
       "      <th>...</th>\n",
       "      <td>...</td>\n",
       "      <td>...</td>\n",
       "      <td>...</td>\n",
       "      <td>...</td>\n",
       "      <td>...</td>\n",
       "      <td>...</td>\n",
       "      <td>...</td>\n",
       "      <td>...</td>\n",
       "      <td>...</td>\n",
       "      <td>...</td>\n",
       "      <td>...</td>\n",
       "      <td>...</td>\n",
       "      <td>...</td>\n",
       "      <td>...</td>\n",
       "      <td>...</td>\n",
       "      <td>...</td>\n",
       "      <td>...</td>\n",
       "      <td>...</td>\n",
       "      <td>...</td>\n",
       "      <td>...</td>\n",
       "      <td>...</td>\n",
       "    </tr>\n",
       "    <tr>\n",
       "      <th>87</th>\n",
       "      <td>BADANY053007</td>\n",
       "      <td>0.0</td>\n",
       "      <td>0.0</td>\n",
       "      <td>1.0</td>\n",
       "      <td>0.0</td>\n",
       "      <td>0</td>\n",
       "      <td>1.0</td>\n",
       "      <td>0.0</td>\n",
       "      <td>1.0</td>\n",
       "      <td>1.0</td>\n",
       "      <td>...</td>\n",
       "      <td>0.707107</td>\n",
       "      <td>0.707107</td>\n",
       "      <td>-0.707107</td>\n",
       "      <td>-0.707107</td>\n",
       "      <td>-0.707107</td>\n",
       "      <td>0.0</td>\n",
       "      <td>0.707107</td>\n",
       "      <td>0.0</td>\n",
       "      <td>0.707107</td>\n",
       "      <td>-0.707107</td>\n",
       "    </tr>\n",
       "    <tr>\n",
       "      <th>88</th>\n",
       "      <td>BADANY060704</td>\n",
       "      <td>1.0</td>\n",
       "      <td>1.0</td>\n",
       "      <td>1.0</td>\n",
       "      <td>0.0</td>\n",
       "      <td>1</td>\n",
       "      <td>0.0</td>\n",
       "      <td>1.0</td>\n",
       "      <td>0.0</td>\n",
       "      <td>0.0</td>\n",
       "      <td>...</td>\n",
       "      <td>0.000000</td>\n",
       "      <td>0.000000</td>\n",
       "      <td>0.000000</td>\n",
       "      <td>0.000000</td>\n",
       "      <td>0.000000</td>\n",
       "      <td>0.0</td>\n",
       "      <td>0.000000</td>\n",
       "      <td>0.0</td>\n",
       "      <td>0.000000</td>\n",
       "      <td>0.000000</td>\n",
       "    </tr>\n",
       "    <tr>\n",
       "      <th>89</th>\n",
       "      <td>BADANY070704</td>\n",
       "      <td>0.0</td>\n",
       "      <td>NaN</td>\n",
       "      <td>1.0</td>\n",
       "      <td>0.0</td>\n",
       "      <td>0</td>\n",
       "      <td>0.0</td>\n",
       "      <td>1.0</td>\n",
       "      <td>0.0</td>\n",
       "      <td>0.0</td>\n",
       "      <td>...</td>\n",
       "      <td>0.000000</td>\n",
       "      <td>0.000000</td>\n",
       "      <td>0.000000</td>\n",
       "      <td>0.000000</td>\n",
       "      <td>0.872872</td>\n",
       "      <td>0.0</td>\n",
       "      <td>0.577350</td>\n",
       "      <td>0.0</td>\n",
       "      <td>0.218218</td>\n",
       "      <td>0.000000</td>\n",
       "    </tr>\n",
       "    <tr>\n",
       "      <th>90</th>\n",
       "      <td>BADANY080704</td>\n",
       "      <td>0.0</td>\n",
       "      <td>1.0</td>\n",
       "      <td>1.0</td>\n",
       "      <td>0.0</td>\n",
       "      <td>0</td>\n",
       "      <td>0.0</td>\n",
       "      <td>1.0</td>\n",
       "      <td>0.0</td>\n",
       "      <td>0.0</td>\n",
       "      <td>...</td>\n",
       "      <td>0.000000</td>\n",
       "      <td>0.000000</td>\n",
       "      <td>0.000000</td>\n",
       "      <td>0.000000</td>\n",
       "      <td>0.000000</td>\n",
       "      <td>0.0</td>\n",
       "      <td>-0.707107</td>\n",
       "      <td>0.0</td>\n",
       "      <td>0.707107</td>\n",
       "      <td>0.000000</td>\n",
       "    </tr>\n",
       "    <tr>\n",
       "      <th>91</th>\n",
       "      <td>BADANY130704</td>\n",
       "      <td>1.0</td>\n",
       "      <td>1.0</td>\n",
       "      <td>1.0</td>\n",
       "      <td>0.0</td>\n",
       "      <td>1</td>\n",
       "      <td>0.0</td>\n",
       "      <td>1.0</td>\n",
       "      <td>0.0</td>\n",
       "      <td>0.0</td>\n",
       "      <td>...</td>\n",
       "      <td>0.000000</td>\n",
       "      <td>0.000000</td>\n",
       "      <td>0.000000</td>\n",
       "      <td>0.000000</td>\n",
       "      <td>0.000000</td>\n",
       "      <td>0.0</td>\n",
       "      <td>0.000000</td>\n",
       "      <td>0.0</td>\n",
       "      <td>0.000000</td>\n",
       "      <td>0.000000</td>\n",
       "    </tr>\n",
       "  </tbody>\n",
       "</table>\n",
       "<p>92 rows × 13628 columns</p>\n",
       "</div>"
      ],
      "text/plain": [
       "   StudentID_TrainingSession  TrainingID_0_target  TrainingID_1_target  \\\n",
       "0               BADANY010507                  1.0                  0.0   \n",
       "1               BADANY010607                  1.0                  1.0   \n",
       "2               BADANY010707                  1.0                  1.0   \n",
       "3               BADANY010807                  0.0                  0.0   \n",
       "4               BADANY010907                  1.0                  0.0   \n",
       "..                       ...                  ...                  ...   \n",
       "87              BADANY053007                  0.0                  0.0   \n",
       "88              BADANY060704                  1.0                  1.0   \n",
       "89              BADANY070704                  0.0                  NaN   \n",
       "90              BADANY080704                  0.0                  1.0   \n",
       "91              BADANY130704                  1.0                  1.0   \n",
       "\n",
       "    TrainingID_2_target  TrainingID_TrainingSession  \\\n",
       "0                   0.0                         0.0   \n",
       "1                   1.0                         0.0   \n",
       "2                   1.0                         0.0   \n",
       "3                   0.0                         0.0   \n",
       "4                   0.0                         0.0   \n",
       "..                  ...                         ...   \n",
       "87                  1.0                         0.0   \n",
       "88                  1.0                         0.0   \n",
       "89                  1.0                         0.0   \n",
       "90                  1.0                         0.0   \n",
       "91                  1.0                         0.0   \n",
       "\n",
       "    target(zdany_egzamin: 1 - zdany, 0 - nie zdany)  \\\n",
       "0                                                 1   \n",
       "1                                                 1   \n",
       "2                                                 1   \n",
       "3                                                 0   \n",
       "4                                                 1   \n",
       "..                                              ...   \n",
       "87                                                0   \n",
       "88                                                1   \n",
       "89                                                0   \n",
       "90                                                0   \n",
       "91                                                1   \n",
       "\n",
       "    czy_doswiadczenie_serwisowe_pompownia  czy_doswiadczenie_serwisowe_brak  \\\n",
       "0                                     1.0                               0.0   \n",
       "1                                     0.0                               1.0   \n",
       "2                                     0.0                               1.0   \n",
       "3                                     0.0                               0.0   \n",
       "4                                     0.0                               1.0   \n",
       "..                                    ...                               ...   \n",
       "87                                    1.0                               0.0   \n",
       "88                                    0.0                               1.0   \n",
       "89                                    0.0                               1.0   \n",
       "90                                    0.0                               1.0   \n",
       "91                                    0.0                               1.0   \n",
       "\n",
       "    czy_doswiadczenie_serwisowe_rooftop  \\\n",
       "0                                   1.0   \n",
       "1                                   0.0   \n",
       "2                                   0.0   \n",
       "3                                   0.0   \n",
       "4                                   0.0   \n",
       "..                                  ...   \n",
       "87                                  1.0   \n",
       "88                                  0.0   \n",
       "89                                  0.0   \n",
       "90                                  0.0   \n",
       "91                                  0.0   \n",
       "\n",
       "    czy_doswiadczenie_serwisowe_klimatyzator  ...  \\\n",
       "0                                        1.0  ...   \n",
       "1                                        0.0  ...   \n",
       "2                                        0.0  ...   \n",
       "3                                        1.0  ...   \n",
       "4                                        0.0  ...   \n",
       "..                                       ...  ...   \n",
       "87                                       1.0  ...   \n",
       "88                                       0.0  ...   \n",
       "89                                       0.0  ...   \n",
       "90                                       0.0  ...   \n",
       "91                                       0.0  ...   \n",
       "\n",
       "    PhysicalFixationRecords_COUNT_DEVIATION_PhysicalFixationRecords_COUNT_x_TaskID_75  \\\n",
       "0                                            0.000000                                   \n",
       "1                                            0.000000                                   \n",
       "2                                            0.000000                                   \n",
       "3                                            0.000000                                   \n",
       "4                                            0.000000                                   \n",
       "..                                                ...                                   \n",
       "87                                           0.707107                                   \n",
       "88                                           0.000000                                   \n",
       "89                                           0.000000                                   \n",
       "90                                           0.000000                                   \n",
       "91                                           0.000000                                   \n",
       "\n",
       "    PhysicalFixationRecords_COUNT_DEVIATION_PhysicalFixationRecords_COUNT_x_TaskID_76  \\\n",
       "0                                            0.000000                                   \n",
       "1                                            0.000000                                   \n",
       "2                                            0.000000                                   \n",
       "3                                            0.000000                                   \n",
       "4                                            0.000000                                   \n",
       "..                                                ...                                   \n",
       "87                                           0.707107                                   \n",
       "88                                           0.000000                                   \n",
       "89                                           0.000000                                   \n",
       "90                                           0.000000                                   \n",
       "91                                           0.000000                                   \n",
       "\n",
       "    PhysicalFixationRecords_COUNT_DEVIATION_PhysicalFixationRecords_COUNT_x_TaskID_77  \\\n",
       "0                                            0.000000                                   \n",
       "1                                            0.000000                                   \n",
       "2                                            0.000000                                   \n",
       "3                                            0.000000                                   \n",
       "4                                            0.000000                                   \n",
       "..                                                ...                                   \n",
       "87                                          -0.707107                                   \n",
       "88                                           0.000000                                   \n",
       "89                                           0.000000                                   \n",
       "90                                           0.000000                                   \n",
       "91                                           0.000000                                   \n",
       "\n",
       "    PhysicalFixationRecords_COUNT_DEVIATION_PhysicalFixationRecords_COUNT_x_TaskID_78  \\\n",
       "0                                            0.000000                                   \n",
       "1                                            0.707107                                   \n",
       "2                                            0.000000                                   \n",
       "3                                            0.000000                                   \n",
       "4                                            0.000000                                   \n",
       "..                                                ...                                   \n",
       "87                                          -0.707107                                   \n",
       "88                                           0.000000                                   \n",
       "89                                           0.000000                                   \n",
       "90                                           0.000000                                   \n",
       "91                                           0.000000                                   \n",
       "\n",
       "    PhysicalFixationRecords_COUNT_DEVIATION_PhysicalFixationRecords_COUNT_x_TaskID_79  \\\n",
       "0                                            0.000000                                   \n",
       "1                                            0.707107                                   \n",
       "2                                           -1.091089                                   \n",
       "3                                            0.000000                                   \n",
       "4                                            0.000000                                   \n",
       "..                                                ...                                   \n",
       "87                                          -0.707107                                   \n",
       "88                                           0.000000                                   \n",
       "89                                           0.872872                                   \n",
       "90                                           0.000000                                   \n",
       "91                                           0.000000                                   \n",
       "\n",
       "    PhysicalFixationRecords_COUNT_DEVIATION_PhysicalFixationRecords_COUNT_x_TaskID_80  \\\n",
       "0                                                 0.0                                   \n",
       "1                                                 0.0                                   \n",
       "2                                                 0.0                                   \n",
       "3                                                 0.0                                   \n",
       "4                                                 0.0                                   \n",
       "..                                                ...                                   \n",
       "87                                                0.0                                   \n",
       "88                                                0.0                                   \n",
       "89                                                0.0                                   \n",
       "90                                                0.0                                   \n",
       "91                                                0.0                                   \n",
       "\n",
       "    PhysicalFixationRecords_COUNT_DEVIATION_PhysicalFixationRecords_COUNT_x_TaskID_81  \\\n",
       "0                                            0.000000                                   \n",
       "1                                            0.707107                                   \n",
       "2                                           -1.154701                                   \n",
       "3                                            0.000000                                   \n",
       "4                                            0.000000                                   \n",
       "..                                                ...                                   \n",
       "87                                           0.707107                                   \n",
       "88                                           0.000000                                   \n",
       "89                                           0.577350                                   \n",
       "90                                          -0.707107                                   \n",
       "91                                           0.000000                                   \n",
       "\n",
       "    PhysicalFixationRecords_COUNT_DEVIATION_PhysicalFixationRecords_COUNT_x_TaskID_82  \\\n",
       "0                                                 0.0                                   \n",
       "1                                                 0.0                                   \n",
       "2                                                 0.0                                   \n",
       "3                                                 0.0                                   \n",
       "4                                                 0.0                                   \n",
       "..                                                ...                                   \n",
       "87                                                0.0                                   \n",
       "88                                                0.0                                   \n",
       "89                                                0.0                                   \n",
       "90                                                0.0                                   \n",
       "91                                                0.0                                   \n",
       "\n",
       "    PhysicalFixationRecords_COUNT_DEVIATION_PhysicalFixationRecords_COUNT_x_TaskID_83  \\\n",
       "0                                            0.000000                                   \n",
       "1                                            0.000000                                   \n",
       "2                                           -1.091089                                   \n",
       "3                                            0.000000                                   \n",
       "4                                            0.000000                                   \n",
       "..                                                ...                                   \n",
       "87                                           0.707107                                   \n",
       "88                                           0.000000                                   \n",
       "89                                           0.218218                                   \n",
       "90                                           0.707107                                   \n",
       "91                                           0.000000                                   \n",
       "\n",
       "    PhysicalFixationRecords_COUNT_DEVIATION_PhysicalFixationRecords_COUNT_x_TaskID_84  \n",
       "0                                            0.000000                                  \n",
       "1                                            0.000000                                  \n",
       "2                                            0.000000                                  \n",
       "3                                            0.000000                                  \n",
       "4                                            0.000000                                  \n",
       "..                                                ...                                  \n",
       "87                                          -0.707107                                  \n",
       "88                                           0.000000                                  \n",
       "89                                           0.000000                                  \n",
       "90                                           0.000000                                  \n",
       "91                                           0.000000                                  \n",
       "\n",
       "[92 rows x 13628 columns]"
      ]
     },
     "execution_count": 18,
     "metadata": {},
     "output_type": "execute_result"
    }
   ],
   "source": [
    "TrainingID_0"
   ]
  },
  {
   "cell_type": "code",
   "execution_count": 19,
   "id": "d08c5c76",
   "metadata": {},
   "outputs": [],
   "source": [
    "train_size = 0.8"
   ]
  },
  {
   "cell_type": "code",
   "execution_count": 20,
   "id": "7197e993",
   "metadata": {},
   "outputs": [],
   "source": [
    "columns_to_exclude = [\n",
    "    'StudentID_TrainingSession',\n",
    "    'TrainingID_TrainingSession',\n",
    "    'target(zdany_egzamin: 1 - zdany, 0 - nie zdany)',\n",
    "    'TrainingID_0_target',\n",
    "    'TrainingID_1_target',\n",
    "    'TrainingID_2_target'\n",
    "]"
   ]
  },
  {
   "cell_type": "code",
   "execution_count": 21,
   "id": "ce3b0100",
   "metadata": {},
   "outputs": [],
   "source": [
    "strat_shuf_split = StratifiedShuffleSplit(train_size=train_size, random_state=7)\n",
    "train_idx, test_idx = next(strat_shuf_split.split(TrainingID_0.loc[:, TrainingID_0.columns != 'target(zdany_egzamin: 1 - zdany, 0 - nie zdany)'], TrainingID_0[\"target(zdany_egzamin: 1 - zdany, 0 - nie zdany)\"]))\n",
    "X_train = TrainingID_0.loc[:, TrainingID_0.columns != 'target(zdany_egzamin: 1 - zdany, 0 - nie zdany)'].iloc[train_idx]\n",
    "X_train = TrainingID_0.drop(columns_to_exclude, axis=1).iloc[train_idx]\n",
    "y_train = TrainingID_0[\"target(zdany_egzamin: 1 - zdany, 0 - nie zdany)\"].iloc[train_idx]\n",
    "X_test = TrainingID_0.loc[:, TrainingID_0.columns != 'target(zdany_egzamin: 1 - zdany, 0 - nie zdany)'].iloc[test_idx]\n",
    "X_test = TrainingID_0.drop(columns_to_exclude, axis=1).iloc[train_idx]\n",
    "y_test = TrainingID_0[\"target(zdany_egzamin: 1 - zdany, 0 - nie zdany)\"].iloc[test_idx]\n",
    "\n",
    "X_tr, X_valid, y_tr, y_valid = train_test_split(X_train, y_train, test_size=0.3, random_state=42)"
   ]
  },
  {
   "cell_type": "code",
   "execution_count": 22,
   "id": "4ba9d60e",
   "metadata": {},
   "outputs": [
    {
     "data": {
      "text/plain": [
       "(73, 13622)"
      ]
     },
     "execution_count": 22,
     "metadata": {},
     "output_type": "execute_result"
    }
   ],
   "source": [
    "X_train.shape"
   ]
  },
  {
   "cell_type": "code",
   "execution_count": 23,
   "id": "917c24fe",
   "metadata": {},
   "outputs": [
    {
     "data": {
      "text/plain": [
       "(51, 13622)"
      ]
     },
     "execution_count": 23,
     "metadata": {},
     "output_type": "execute_result"
    }
   ],
   "source": [
    "X_tr.shape"
   ]
  },
  {
   "cell_type": "code",
   "execution_count": 24,
   "id": "c9f891cd",
   "metadata": {},
   "outputs": [
    {
     "data": {
      "text/plain": [
       "(22, 13622)"
      ]
     },
     "execution_count": 24,
     "metadata": {},
     "output_type": "execute_result"
    }
   ],
   "source": [
    "X_valid.shape"
   ]
  },
  {
   "cell_type": "code",
   "execution_count": 25,
   "id": "1cbba07f",
   "metadata": {},
   "outputs": [
    {
     "data": {
      "text/plain": [
       "(73, 13622)"
      ]
     },
     "execution_count": 25,
     "metadata": {},
     "output_type": "execute_result"
    }
   ],
   "source": [
    "X_test.shape"
   ]
  },
  {
   "cell_type": "code",
   "execution_count": 26,
   "id": "05fed334",
   "metadata": {},
   "outputs": [
    {
     "data": {
      "text/plain": [
       "(73,)"
      ]
     },
     "execution_count": 26,
     "metadata": {},
     "output_type": "execute_result"
    }
   ],
   "source": [
    "y_train.shape"
   ]
  },
  {
   "cell_type": "code",
   "execution_count": 27,
   "id": "199efc48",
   "metadata": {},
   "outputs": [
    {
     "data": {
      "text/plain": [
       "(51,)"
      ]
     },
     "execution_count": 27,
     "metadata": {},
     "output_type": "execute_result"
    }
   ],
   "source": [
    "y_tr.shape"
   ]
  },
  {
   "cell_type": "code",
   "execution_count": 28,
   "id": "208d8378",
   "metadata": {},
   "outputs": [
    {
     "data": {
      "text/plain": [
       "(22,)"
      ]
     },
     "execution_count": 28,
     "metadata": {},
     "output_type": "execute_result"
    }
   ],
   "source": [
    "y_valid.shape"
   ]
  },
  {
   "cell_type": "code",
   "execution_count": 29,
   "id": "79f2d627",
   "metadata": {},
   "outputs": [
    {
     "data": {
      "text/plain": [
       "(19,)"
      ]
     },
     "execution_count": 29,
     "metadata": {},
     "output_type": "execute_result"
    }
   ],
   "source": [
    "y_test.shape"
   ]
  },
  {
   "cell_type": "code",
   "execution_count": 30,
   "id": "3b2fcc08",
   "metadata": {},
   "outputs": [],
   "source": [
    "#X_train.head()"
   ]
  },
  {
   "cell_type": "code",
   "execution_count": 31,
   "id": "8f3d07b5",
   "metadata": {
    "scrolled": true
   },
   "outputs": [],
   "source": [
    "#X_tr.head()"
   ]
  },
  {
   "cell_type": "code",
   "execution_count": 32,
   "id": "ef631eab",
   "metadata": {},
   "outputs": [],
   "source": [
    "#X_valid.head()"
   ]
  },
  {
   "cell_type": "code",
   "execution_count": 33,
   "id": "dbcb3348",
   "metadata": {},
   "outputs": [],
   "source": [
    "#X_test.head()"
   ]
  },
  {
   "cell_type": "code",
   "execution_count": 34,
   "id": "87737ce5",
   "metadata": {},
   "outputs": [],
   "source": [
    "# Standardize Data\n",
    "sc = StandardScaler()\n",
    "X_tr_std = sc.fit_transform(X_tr)\n",
    "X_valid_std = sc.transform(X_valid)\n",
    "X_test_std = sc.transform(X_test)"
   ]
  },
  {
   "cell_type": "markdown",
   "id": "1fa010b2",
   "metadata": {},
   "source": [
    "### Base Autoencoder"
   ]
  },
  {
   "cell_type": "code",
   "execution_count": 35,
   "id": "a6419ea3",
   "metadata": {},
   "outputs": [
    {
     "name": "stdout",
     "output_type": "stream",
     "text": [
      "Model: \"sequential_58\"\n",
      "_________________________________________________________________\n",
      "Layer (type)                 Output Shape              Param #   \n",
      "=================================================================\n",
      "sequential_56 (Sequential)   (None, 3)                 40869     \n",
      "_________________________________________________________________\n",
      "sequential_57 (Sequential)   (None, 13622)             54488     \n",
      "=================================================================\n",
      "Total params: 95,357\n",
      "Trainable params: 95,357\n",
      "Non-trainable params: 0\n",
      "_________________________________________________________________\n"
     ]
    },
    {
     "name": "stderr",
     "output_type": "stream",
     "text": [
      "C:\\Users\\KonuTech\\.conda\\envs\\tf-gpu\\lib\\site-packages\\tensorflow\\python\\keras\\optimizer_v2\\optimizer_v2.py:374: UserWarning: The `lr` argument is deprecated, use `learning_rate` instead.\n",
      "  warnings.warn(\n"
     ]
    }
   ],
   "source": [
    "encoder = keras.models.Sequential([\n",
    "    keras.layers.Dense(3, input_shape=[X_tr_std.shape[1]])\n",
    "])\n",
    "\n",
    "decoder = keras.models.Sequential([\n",
    "    keras.layers.Dense(X_tr_std.shape[1], input_shape=[3])\n",
    "])\n",
    "\n",
    "autoencoder = keras.models.Sequential([encoder, decoder])\n",
    "autoencoder.compile(loss='mse', optimizer=keras.optimizers.SGD(lr=0.1))\n",
    "\n",
    "autoencoder.summary()"
   ]
  },
  {
   "cell_type": "code",
   "execution_count": 36,
   "id": "aef0a980",
   "metadata": {},
   "outputs": [],
   "source": [
    "def create_model(optimizer='Nadam', learning_rate=0.001, beta_1=0.9, beta_2=0.999, epsilon=1e-07, init_mode='uniform', activation='relu', dropout_rate=0.2, weight_constraint=0):\n",
    "    # design network\n",
    "#     model = Sequential()\n",
    "#     model.add(Dense(neurons_first_layer, input_dim=len(selected_features), activation=activation, kernel_initializer=init_mode, kernel_constraint=maxnorm(weight_constraint)))\n",
    "#     model.add(Dropout(dropout_rate))\n",
    "#     model.add(Dense(neurons_second_layer, activation=activation, kernel_initializer=init_mode, kernel_constraint=maxnorm(weight_constraint)))\n",
    "#     model.add(Dropout(dropout_rate))\n",
    "#     model.add(Dense(1, activation='sigmoid'))\n",
    "    \n",
    "#     print(model.summary())\n",
    "    \n",
    "    encoder = keras.models.Sequential([\n",
    "        keras.layers.Dense(3, input_shape=[X_tr_std.shape[1]])\n",
    "    ])\n",
    "\n",
    "    decoder = keras.models.Sequential([\n",
    "        keras.layers.Dense(X_tr_std.shape[1], input_shape=[3])\n",
    "    ])\n",
    "\n",
    "    autoencoder = keras.models.Sequential([encoder, decoder])\n",
    "    #autoencoder.compile(loss='mse', optimizer=keras.optimizers.SGD(lr=0.1))\n",
    "\n",
    "    autoencoder.summary()\n",
    "\n",
    "    es = EarlyStopping(monitor='val_loss', mode='min', verbose=0, patience=100)\n",
    "    optimizer = keras.optimizers.Nadam(learning_rate=learning_rate, beta_1=beta_1, beta_2=beta_2, epsilon=epsilon)\n",
    "    autoencoder.compile(loss='mse', optimizer=optimizer, metrics=['accuracy'])\n",
    "\n",
    "    return model"
   ]
  },
  {
   "cell_type": "code",
   "execution_count": 53,
   "id": "10e2a77b",
   "metadata": {
    "scrolled": false
   },
   "outputs": [
    {
     "ename": "MemoryError",
     "evalue": "Unable to allocate 1.56 MiB for an array with shape (13622, 15) and data type float64",
     "output_type": "error",
     "traceback": [
      "\u001b[1;31m---------------------------------------------------------------------------\u001b[0m",
      "\u001b[1;31m_RemoteTraceback\u001b[0m                          Traceback (most recent call last)",
      "\u001b[1;31m_RemoteTraceback\u001b[0m: \n\"\"\"\nTraceback (most recent call last):\n  File \"C:\\Users\\KonuTech\\.conda\\envs\\tf-gpu\\lib\\site-packages\\joblib\\externals\\loky\\process_executor.py\", line 436, in _process_worker\n    r = call_item()\n  File \"C:\\Users\\KonuTech\\.conda\\envs\\tf-gpu\\lib\\site-packages\\joblib\\externals\\loky\\process_executor.py\", line 288, in __call__\n    return self.fn(*self.args, **self.kwargs)\n  File \"C:\\Users\\KonuTech\\.conda\\envs\\tf-gpu\\lib\\site-packages\\joblib\\_parallel_backends.py\", line 595, in __call__\n    return self.func(*args, **kwargs)\n  File \"C:\\Users\\KonuTech\\.conda\\envs\\tf-gpu\\lib\\site-packages\\joblib\\parallel.py\", line 262, in __call__\n    return [func(*args, **kwargs)\n  File \"C:\\Users\\KonuTech\\.conda\\envs\\tf-gpu\\lib\\site-packages\\joblib\\parallel.py\", line 262, in <listcomp>\n    return [func(*args, **kwargs)\n  File \"C:\\Users\\KonuTech\\.conda\\envs\\tf-gpu\\lib\\site-packages\\sklearn\\utils\\fixes.py\", line 211, in __call__\n    return self.function(*args, **kwargs)\n  File \"C:\\Users\\KonuTech\\.conda\\envs\\tf-gpu\\lib\\site-packages\\sklearn\\model_selection\\_validation.py\", line 674, in _fit_and_score\n    X_test, y_test = _safe_split(estimator, X, y, test, train)\n  File \"C:\\Users\\KonuTech\\.conda\\envs\\tf-gpu\\lib\\site-packages\\sklearn\\utils\\metaestimators.py\", line 288, in _safe_split\n    X_subset = _safe_indexing(X, indices)\n  File \"C:\\Users\\KonuTech\\.conda\\envs\\tf-gpu\\lib\\site-packages\\sklearn\\utils\\__init__.py\", line 376, in _safe_indexing\n    return _pandas_indexing(X, indices, indices_dtype, axis=axis)\n  File \"C:\\Users\\KonuTech\\.conda\\envs\\tf-gpu\\lib\\site-packages\\sklearn\\utils\\__init__.py\", line 218, in _pandas_indexing\n    return X.take(key, axis=axis)\n  File \"C:\\Users\\KonuTech\\.conda\\envs\\tf-gpu\\lib\\site-packages\\pandas\\core\\generic.py\", line 3615, in take\n    new_data = self._mgr.take(\n  File \"C:\\Users\\KonuTech\\.conda\\envs\\tf-gpu\\lib\\site-packages\\pandas\\core\\internals\\managers.py\", line 865, in take\n    return self.reindex_indexer(\n  File \"C:\\Users\\KonuTech\\.conda\\envs\\tf-gpu\\lib\\site-packages\\pandas\\core\\internals\\managers.py\", line 680, in reindex_indexer\n    new_blocks = [\n  File \"C:\\Users\\KonuTech\\.conda\\envs\\tf-gpu\\lib\\site-packages\\pandas\\core\\internals\\managers.py\", line 681, in <listcomp>\n    blk.take_nd(\n  File \"C:\\Users\\KonuTech\\.conda\\envs\\tf-gpu\\lib\\site-packages\\pandas\\core\\internals\\blocks.py\", line 1144, in take_nd\n    new_values = algos.take_nd(\n  File \"C:\\Users\\KonuTech\\.conda\\envs\\tf-gpu\\lib\\site-packages\\pandas\\core\\array_algos\\take.py\", line 108, in take_nd\n    return _take_nd_ndarray(arr, indexer, axis, fill_value, allow_fill)\n  File \"C:\\Users\\KonuTech\\.conda\\envs\\tf-gpu\\lib\\site-packages\\pandas\\core\\array_algos\\take.py\", line 149, in _take_nd_ndarray\n    out = np.empty(out_shape, dtype=dtype)\nnumpy.core._exceptions._ArrayMemoryError: Unable to allocate 1.56 MiB for an array with shape (13622, 15) and data type float64\n\"\"\"",
      "\nThe above exception was the direct cause of the following exception:\n",
      "\u001b[1;31mMemoryError\u001b[0m                               Traceback (most recent call last)",
      "\u001b[1;32m~\\AppData\\Local\\Temp/ipykernel_8724/3719350993.py\u001b[0m in \u001b[0;36m<module>\u001b[1;34m\u001b[0m\n\u001b[0;32m     57\u001b[0m \u001b[1;33m\u001b[0m\u001b[0m\n\u001b[0;32m     58\u001b[0m \u001b[0mgrid\u001b[0m \u001b[1;33m=\u001b[0m \u001b[0mGridSearchCV\u001b[0m\u001b[1;33m(\u001b[0m\u001b[0mestimator\u001b[0m\u001b[1;33m=\u001b[0m\u001b[0mpipeline\u001b[0m\u001b[1;33m[\u001b[0m\u001b[1;36m1\u001b[0m\u001b[1;33m]\u001b[0m\u001b[1;33m,\u001b[0m \u001b[0mparam_grid\u001b[0m\u001b[1;33m=\u001b[0m\u001b[0mparam_grid\u001b[0m\u001b[1;33m,\u001b[0m \u001b[0mn_jobs\u001b[0m\u001b[1;33m=\u001b[0m\u001b[1;33m-\u001b[0m\u001b[1;36m1\u001b[0m\u001b[1;33m,\u001b[0m \u001b[0mcv\u001b[0m\u001b[1;33m=\u001b[0m\u001b[0mkfold\u001b[0m\u001b[1;33m)\u001b[0m\u001b[1;33m\u001b[0m\u001b[1;33m\u001b[0m\u001b[0m\n\u001b[1;32m---> 59\u001b[1;33m \u001b[0mgrid_result\u001b[0m \u001b[1;33m=\u001b[0m \u001b[0mgrid\u001b[0m\u001b[1;33m.\u001b[0m\u001b[0mfit\u001b[0m\u001b[1;33m(\u001b[0m\u001b[0mX_train\u001b[0m\u001b[1;33m,\u001b[0m \u001b[0my_train\u001b[0m\u001b[1;33m)\u001b[0m\u001b[1;33m\u001b[0m\u001b[1;33m\u001b[0m\u001b[0m\n\u001b[0m\u001b[0;32m     60\u001b[0m \u001b[0mprint\u001b[0m\u001b[1;33m(\u001b[0m\u001b[1;34m\"Best: %f using %s\"\u001b[0m \u001b[1;33m%\u001b[0m \u001b[1;33m(\u001b[0m\u001b[0mgrid_result\u001b[0m\u001b[1;33m.\u001b[0m\u001b[0mbest_score_\u001b[0m\u001b[1;33m,\u001b[0m \u001b[0mgrid_result\u001b[0m\u001b[1;33m.\u001b[0m\u001b[0mbest_params_\u001b[0m\u001b[1;33m)\u001b[0m\u001b[1;33m)\u001b[0m\u001b[1;33m\u001b[0m\u001b[1;33m\u001b[0m\u001b[0m\n",
      "\u001b[1;32m~\\.conda\\envs\\tf-gpu\\lib\\site-packages\\sklearn\\model_selection\\_search.py\u001b[0m in \u001b[0;36mfit\u001b[1;34m(self, X, y, groups, **fit_params)\u001b[0m\n\u001b[0;32m    889\u001b[0m                 \u001b[1;32mreturn\u001b[0m \u001b[0mresults\u001b[0m\u001b[1;33m\u001b[0m\u001b[1;33m\u001b[0m\u001b[0m\n\u001b[0;32m    890\u001b[0m \u001b[1;33m\u001b[0m\u001b[0m\n\u001b[1;32m--> 891\u001b[1;33m             \u001b[0mself\u001b[0m\u001b[1;33m.\u001b[0m\u001b[0m_run_search\u001b[0m\u001b[1;33m(\u001b[0m\u001b[0mevaluate_candidates\u001b[0m\u001b[1;33m)\u001b[0m\u001b[1;33m\u001b[0m\u001b[1;33m\u001b[0m\u001b[0m\n\u001b[0m\u001b[0;32m    892\u001b[0m \u001b[1;33m\u001b[0m\u001b[0m\n\u001b[0;32m    893\u001b[0m             \u001b[1;31m# multimetric is determined here because in the case of a callable\u001b[0m\u001b[1;33m\u001b[0m\u001b[1;33m\u001b[0m\u001b[0m\n",
      "\u001b[1;32m~\\.conda\\envs\\tf-gpu\\lib\\site-packages\\sklearn\\model_selection\\_search.py\u001b[0m in \u001b[0;36m_run_search\u001b[1;34m(self, evaluate_candidates)\u001b[0m\n\u001b[0;32m   1390\u001b[0m     \u001b[1;32mdef\u001b[0m \u001b[0m_run_search\u001b[0m\u001b[1;33m(\u001b[0m\u001b[0mself\u001b[0m\u001b[1;33m,\u001b[0m \u001b[0mevaluate_candidates\u001b[0m\u001b[1;33m)\u001b[0m\u001b[1;33m:\u001b[0m\u001b[1;33m\u001b[0m\u001b[1;33m\u001b[0m\u001b[0m\n\u001b[0;32m   1391\u001b[0m         \u001b[1;34m\"\"\"Search all candidates in param_grid\"\"\"\u001b[0m\u001b[1;33m\u001b[0m\u001b[1;33m\u001b[0m\u001b[0m\n\u001b[1;32m-> 1392\u001b[1;33m         \u001b[0mevaluate_candidates\u001b[0m\u001b[1;33m(\u001b[0m\u001b[0mParameterGrid\u001b[0m\u001b[1;33m(\u001b[0m\u001b[0mself\u001b[0m\u001b[1;33m.\u001b[0m\u001b[0mparam_grid\u001b[0m\u001b[1;33m)\u001b[0m\u001b[1;33m)\u001b[0m\u001b[1;33m\u001b[0m\u001b[1;33m\u001b[0m\u001b[0m\n\u001b[0m\u001b[0;32m   1393\u001b[0m \u001b[1;33m\u001b[0m\u001b[0m\n\u001b[0;32m   1394\u001b[0m \u001b[1;33m\u001b[0m\u001b[0m\n",
      "\u001b[1;32m~\\.conda\\envs\\tf-gpu\\lib\\site-packages\\sklearn\\model_selection\\_search.py\u001b[0m in \u001b[0;36mevaluate_candidates\u001b[1;34m(candidate_params, cv, more_results)\u001b[0m\n\u001b[0;32m    836\u001b[0m                     )\n\u001b[0;32m    837\u001b[0m \u001b[1;33m\u001b[0m\u001b[0m\n\u001b[1;32m--> 838\u001b[1;33m                 out = parallel(\n\u001b[0m\u001b[0;32m    839\u001b[0m                     delayed(_fit_and_score)(\n\u001b[0;32m    840\u001b[0m                         \u001b[0mclone\u001b[0m\u001b[1;33m(\u001b[0m\u001b[0mbase_estimator\u001b[0m\u001b[1;33m)\u001b[0m\u001b[1;33m,\u001b[0m\u001b[1;33m\u001b[0m\u001b[1;33m\u001b[0m\u001b[0m\n",
      "\u001b[1;32m~\\.conda\\envs\\tf-gpu\\lib\\site-packages\\joblib\\parallel.py\u001b[0m in \u001b[0;36m__call__\u001b[1;34m(self, iterable)\u001b[0m\n\u001b[0;32m   1054\u001b[0m \u001b[1;33m\u001b[0m\u001b[0m\n\u001b[0;32m   1055\u001b[0m             \u001b[1;32mwith\u001b[0m \u001b[0mself\u001b[0m\u001b[1;33m.\u001b[0m\u001b[0m_backend\u001b[0m\u001b[1;33m.\u001b[0m\u001b[0mretrieval_context\u001b[0m\u001b[1;33m(\u001b[0m\u001b[1;33m)\u001b[0m\u001b[1;33m:\u001b[0m\u001b[1;33m\u001b[0m\u001b[1;33m\u001b[0m\u001b[0m\n\u001b[1;32m-> 1056\u001b[1;33m                 \u001b[0mself\u001b[0m\u001b[1;33m.\u001b[0m\u001b[0mretrieve\u001b[0m\u001b[1;33m(\u001b[0m\u001b[1;33m)\u001b[0m\u001b[1;33m\u001b[0m\u001b[1;33m\u001b[0m\u001b[0m\n\u001b[0m\u001b[0;32m   1057\u001b[0m             \u001b[1;31m# Make sure that we get a last message telling us we are done\u001b[0m\u001b[1;33m\u001b[0m\u001b[1;33m\u001b[0m\u001b[0m\n\u001b[0;32m   1058\u001b[0m             \u001b[0melapsed_time\u001b[0m \u001b[1;33m=\u001b[0m \u001b[0mtime\u001b[0m\u001b[1;33m.\u001b[0m\u001b[0mtime\u001b[0m\u001b[1;33m(\u001b[0m\u001b[1;33m)\u001b[0m \u001b[1;33m-\u001b[0m \u001b[0mself\u001b[0m\u001b[1;33m.\u001b[0m\u001b[0m_start_time\u001b[0m\u001b[1;33m\u001b[0m\u001b[1;33m\u001b[0m\u001b[0m\n",
      "\u001b[1;32m~\\.conda\\envs\\tf-gpu\\lib\\site-packages\\joblib\\parallel.py\u001b[0m in \u001b[0;36mretrieve\u001b[1;34m(self)\u001b[0m\n\u001b[0;32m    933\u001b[0m             \u001b[1;32mtry\u001b[0m\u001b[1;33m:\u001b[0m\u001b[1;33m\u001b[0m\u001b[1;33m\u001b[0m\u001b[0m\n\u001b[0;32m    934\u001b[0m                 \u001b[1;32mif\u001b[0m \u001b[0mgetattr\u001b[0m\u001b[1;33m(\u001b[0m\u001b[0mself\u001b[0m\u001b[1;33m.\u001b[0m\u001b[0m_backend\u001b[0m\u001b[1;33m,\u001b[0m \u001b[1;34m'supports_timeout'\u001b[0m\u001b[1;33m,\u001b[0m \u001b[1;32mFalse\u001b[0m\u001b[1;33m)\u001b[0m\u001b[1;33m:\u001b[0m\u001b[1;33m\u001b[0m\u001b[1;33m\u001b[0m\u001b[0m\n\u001b[1;32m--> 935\u001b[1;33m                     \u001b[0mself\u001b[0m\u001b[1;33m.\u001b[0m\u001b[0m_output\u001b[0m\u001b[1;33m.\u001b[0m\u001b[0mextend\u001b[0m\u001b[1;33m(\u001b[0m\u001b[0mjob\u001b[0m\u001b[1;33m.\u001b[0m\u001b[0mget\u001b[0m\u001b[1;33m(\u001b[0m\u001b[0mtimeout\u001b[0m\u001b[1;33m=\u001b[0m\u001b[0mself\u001b[0m\u001b[1;33m.\u001b[0m\u001b[0mtimeout\u001b[0m\u001b[1;33m)\u001b[0m\u001b[1;33m)\u001b[0m\u001b[1;33m\u001b[0m\u001b[1;33m\u001b[0m\u001b[0m\n\u001b[0m\u001b[0;32m    936\u001b[0m                 \u001b[1;32melse\u001b[0m\u001b[1;33m:\u001b[0m\u001b[1;33m\u001b[0m\u001b[1;33m\u001b[0m\u001b[0m\n\u001b[0;32m    937\u001b[0m                     \u001b[0mself\u001b[0m\u001b[1;33m.\u001b[0m\u001b[0m_output\u001b[0m\u001b[1;33m.\u001b[0m\u001b[0mextend\u001b[0m\u001b[1;33m(\u001b[0m\u001b[0mjob\u001b[0m\u001b[1;33m.\u001b[0m\u001b[0mget\u001b[0m\u001b[1;33m(\u001b[0m\u001b[1;33m)\u001b[0m\u001b[1;33m)\u001b[0m\u001b[1;33m\u001b[0m\u001b[1;33m\u001b[0m\u001b[0m\n",
      "\u001b[1;32m~\\.conda\\envs\\tf-gpu\\lib\\site-packages\\joblib\\_parallel_backends.py\u001b[0m in \u001b[0;36mwrap_future_result\u001b[1;34m(future, timeout)\u001b[0m\n\u001b[0;32m    540\u001b[0m         AsyncResults.get from multiprocessing.\"\"\"\n\u001b[0;32m    541\u001b[0m         \u001b[1;32mtry\u001b[0m\u001b[1;33m:\u001b[0m\u001b[1;33m\u001b[0m\u001b[1;33m\u001b[0m\u001b[0m\n\u001b[1;32m--> 542\u001b[1;33m             \u001b[1;32mreturn\u001b[0m \u001b[0mfuture\u001b[0m\u001b[1;33m.\u001b[0m\u001b[0mresult\u001b[0m\u001b[1;33m(\u001b[0m\u001b[0mtimeout\u001b[0m\u001b[1;33m=\u001b[0m\u001b[0mtimeout\u001b[0m\u001b[1;33m)\u001b[0m\u001b[1;33m\u001b[0m\u001b[1;33m\u001b[0m\u001b[0m\n\u001b[0m\u001b[0;32m    543\u001b[0m         \u001b[1;32mexcept\u001b[0m \u001b[0mCfTimeoutError\u001b[0m \u001b[1;32mas\u001b[0m \u001b[0me\u001b[0m\u001b[1;33m:\u001b[0m\u001b[1;33m\u001b[0m\u001b[1;33m\u001b[0m\u001b[0m\n\u001b[0;32m    544\u001b[0m             \u001b[1;32mraise\u001b[0m \u001b[0mTimeoutError\u001b[0m \u001b[1;32mfrom\u001b[0m \u001b[0me\u001b[0m\u001b[1;33m\u001b[0m\u001b[1;33m\u001b[0m\u001b[0m\n",
      "\u001b[1;32m~\\.conda\\envs\\tf-gpu\\lib\\concurrent\\futures\\_base.py\u001b[0m in \u001b[0;36mresult\u001b[1;34m(self, timeout)\u001b[0m\n\u001b[0;32m    436\u001b[0m                     \u001b[1;32mraise\u001b[0m \u001b[0mCancelledError\u001b[0m\u001b[1;33m(\u001b[0m\u001b[1;33m)\u001b[0m\u001b[1;33m\u001b[0m\u001b[1;33m\u001b[0m\u001b[0m\n\u001b[0;32m    437\u001b[0m                 \u001b[1;32melif\u001b[0m \u001b[0mself\u001b[0m\u001b[1;33m.\u001b[0m\u001b[0m_state\u001b[0m \u001b[1;33m==\u001b[0m \u001b[0mFINISHED\u001b[0m\u001b[1;33m:\u001b[0m\u001b[1;33m\u001b[0m\u001b[1;33m\u001b[0m\u001b[0m\n\u001b[1;32m--> 438\u001b[1;33m                     \u001b[1;32mreturn\u001b[0m \u001b[0mself\u001b[0m\u001b[1;33m.\u001b[0m\u001b[0m__get_result\u001b[0m\u001b[1;33m(\u001b[0m\u001b[1;33m)\u001b[0m\u001b[1;33m\u001b[0m\u001b[1;33m\u001b[0m\u001b[0m\n\u001b[0m\u001b[0;32m    439\u001b[0m \u001b[1;33m\u001b[0m\u001b[0m\n\u001b[0;32m    440\u001b[0m                 \u001b[0mself\u001b[0m\u001b[1;33m.\u001b[0m\u001b[0m_condition\u001b[0m\u001b[1;33m.\u001b[0m\u001b[0mwait\u001b[0m\u001b[1;33m(\u001b[0m\u001b[0mtimeout\u001b[0m\u001b[1;33m)\u001b[0m\u001b[1;33m\u001b[0m\u001b[1;33m\u001b[0m\u001b[0m\n",
      "\u001b[1;32m~\\.conda\\envs\\tf-gpu\\lib\\concurrent\\futures\\_base.py\u001b[0m in \u001b[0;36m__get_result\u001b[1;34m(self)\u001b[0m\n\u001b[0;32m    388\u001b[0m         \u001b[1;32mif\u001b[0m \u001b[0mself\u001b[0m\u001b[1;33m.\u001b[0m\u001b[0m_exception\u001b[0m\u001b[1;33m:\u001b[0m\u001b[1;33m\u001b[0m\u001b[1;33m\u001b[0m\u001b[0m\n\u001b[0;32m    389\u001b[0m             \u001b[1;32mtry\u001b[0m\u001b[1;33m:\u001b[0m\u001b[1;33m\u001b[0m\u001b[1;33m\u001b[0m\u001b[0m\n\u001b[1;32m--> 390\u001b[1;33m                 \u001b[1;32mraise\u001b[0m \u001b[0mself\u001b[0m\u001b[1;33m.\u001b[0m\u001b[0m_exception\u001b[0m\u001b[1;33m\u001b[0m\u001b[1;33m\u001b[0m\u001b[0m\n\u001b[0m\u001b[0;32m    391\u001b[0m             \u001b[1;32mfinally\u001b[0m\u001b[1;33m:\u001b[0m\u001b[1;33m\u001b[0m\u001b[1;33m\u001b[0m\u001b[0m\n\u001b[0;32m    392\u001b[0m                 \u001b[1;31m# Break a reference cycle with the exception in self._exception\u001b[0m\u001b[1;33m\u001b[0m\u001b[1;33m\u001b[0m\u001b[0m\n",
      "\u001b[1;31mMemoryError\u001b[0m: Unable to allocate 1.56 MiB for an array with shape (13622, 15) and data type float64"
     ]
    }
   ],
   "source": [
    "estimators = []\n",
    "estimators.append(('standardize', StandardScaler()))\n",
    "#estimators.append(('mlp', KerasClassifier(build_fn=create_model, verbose=0)))\n",
    "estimators.append(('autoencoder', KerasRegressor(\n",
    "    build_fn=create_model,\n",
    "    verbose=0,\n",
    "    activation='selu',\n",
    "    beta_1=0.9,\n",
    "    beta_2=0.999,\n",
    "    dropout_rate=0.1,\n",
    "    epsilon=1e-07,\n",
    "    init_mode='uniform',\n",
    "    learning_rate=0.001,\n",
    "    weight_constraint=1\n",
    ")))\n",
    "pipeline = Pipeline(estimators)\n",
    "kfold = StratifiedKFold(n_splits=5, shuffle=False)\n",
    "\n",
    "#batches = [1, 2, 4, 8, 16, 32]\n",
    "batches = [1]\n",
    "#epochs = [10, 50, 100]\n",
    "epochs = [200]\n",
    "#optimizers = ['SGD', 'RMSprop', 'Adagrad', 'Adadelta', 'Adam', 'Adamax', 'Nadam']\n",
    "#learning_rate = [0.001, 0.01, 0.1, 0.2, 0.3]\n",
    "#learning_rate = [0.001, 0.01, 0.1]\n",
    "learning_rate = [0.001, 0.01]\n",
    "#init_mode = ['uniform', 'lecun_uniform', 'normal', 'zero', 'glorot_normal', 'glorot_uniform', 'he_normal', 'he_uniform']\n",
    "init_mode = ['uniform', 'normal']\n",
    "beta_1=[0.9]\n",
    "beta_2=[0.999]\n",
    "epsilon=[1e-07]\n",
    "#activation = ['softmax', 'softplus', 'softsign', 'relu', 'tanh', 'sigmoid', 'hard_sigmoid', 'linear']\n",
    "activation = ['relu']\n",
    "#weight_constraint = [1, 2, 3, 4, 5]\n",
    "weight_constraint = [1, 2, 3]\n",
    "#dropout_rate = [0.0, 0.1, 0.2, 0.3, 0.4, 0.5, 0.6, 0.7, 0.8, 0.9]\n",
    "dropout_rate = [0.1, 0.2]\n",
    "#neurons_first_layer=[1, 5, 10, 15, 20, 25, 30]\n",
    "#neurons_first_layer=[len(selected_features)]\n",
    "#neurons_second_layer=[1, 5, 10, 15, 20, 25, 30]\n",
    "#neurons_second_layer=[len(selected_features)]\n",
    "\n",
    "param_grid = dict(\n",
    "     batch_size=batches\n",
    "    ,epochs=epochs\n",
    "    ,learning_rate=learning_rate\n",
    "    ,init_mode=init_mode\n",
    "    ,beta_1=beta_1\n",
    "    ,beta_2=beta_2\n",
    "    ,epsilon=epsilon\n",
    "    ,activation=activation\n",
    "    ,dropout_rate=dropout_rate\n",
    "    ,weight_constraint=weight_constraint\n",
    "#    ,neurons_first_layer=neurons_first_layer\n",
    "#    ,neurons_second_layer=neurons_second_layer\n",
    ")\n",
    "\n",
    "grid = GridSearchCV(estimator=pipeline[1], param_grid=param_grid, n_jobs=-1, cv=kfold)\n",
    "grid_result = grid.fit(X_train, y_train)\n",
    "print(\"Best: %f using %s\" % (grid_result.best_score_, grid_result.best_params_))"
   ]
  },
  {
   "cell_type": "code",
   "execution_count": null,
   "id": "a2bf03a9",
   "metadata": {
    "scrolled": true
   },
   "outputs": [],
   "source": [
    "history = autoencoder.fit(\n",
    "    X_tr_std,\n",
    "    X_tr_std,\n",
    "    epochs=1000,\n",
    "    validation_data=(X_valid_std, X_valid_std),\n",
    "    callbacks=[keras.callbacks.EarlyStopping(patience=100)]\n",
    ")\n",
    "\n",
    "codings = encoder.predict(X_tr_std)"
   ]
  },
  {
   "cell_type": "code",
   "execution_count": null,
   "id": "937045bd",
   "metadata": {},
   "outputs": [],
   "source": []
  }
 ],
 "metadata": {
  "kernelspec": {
   "display_name": "Python 3 (ipykernel)",
   "language": "python",
   "name": "python3"
  },
  "language_info": {
   "codemirror_mode": {
    "name": "ipython",
    "version": 3
   },
   "file_extension": ".py",
   "mimetype": "text/x-python",
   "name": "python",
   "nbconvert_exporter": "python",
   "pygments_lexer": "ipython3",
   "version": "3.9.7"
  }
 },
 "nbformat": 4,
 "nbformat_minor": 5
}
